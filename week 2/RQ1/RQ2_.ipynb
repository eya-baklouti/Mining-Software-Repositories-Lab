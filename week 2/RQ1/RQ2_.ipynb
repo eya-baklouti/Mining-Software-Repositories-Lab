{
 "cells": [
  {
   "cell_type": "code",
   "execution_count": null,
   "id": "8fb0f829",
   "metadata": {},
   "outputs": [],
   "source": [
    "import pandas as pd\n",
    "import numpy as np\n",
    "from sklearn.model_selection import train_test_split\n",
    "from sklearn.model_selection import KFold\n",
    "from sklearn.metrics import accuracy_score, precision_score, recall_score, f1_score\n",
    "import seaborn as sns"
   ]
  },
  {
   "cell_type": "code",
   "execution_count": null,
   "id": "c9a9750d",
   "metadata": {},
   "outputs": [],
   "source": [
    "df3 = pd.read_excel('features-commons-math.xlsx')\n",
    "df1 = pd.read_excel('django-mysql.xlsx')\n",
    "df2 = pd.read_excel('alibaba.xlsx')\n",
    "df = pd.concat([df1, df2, df3], axis=0)"
   ]
  },
  {
   "cell_type": "code",
   "execution_count": null,
   "id": "9e08e49d",
   "metadata": {},
   "outputs": [],
   "source": [
    "df=df.drop(['merged_date','PR_Number'], axis=1)"
   ]
  },
  {
   "cell_type": "code",
   "execution_count": null,
   "id": "b9031a4e",
   "metadata": {},
   "outputs": [],
   "source": [
    "df['is_merged'].value_counts()"
   ]
  },
  {
   "cell_type": "markdown",
   "id": "d08b8b40",
   "metadata": {},
   "source": [
    "## Feature importance"
   ]
  },
  {
   "cell_type": "markdown",
   "id": "60f6e892",
   "metadata": {},
   "source": [
    "#### Corrlation Analysis"
   ]
  },
  {
   "cell_type": "code",
   "execution_count": 31,
   "id": "3b40d5e0",
   "metadata": {},
   "outputs": [
    {
     "name": "stdout",
     "output_type": "stream",
     "text": [
      "               num_commits  added_lines  deleted_lines  changed_lines  \\\n",
      "num_commits       1.000000     0.241940       0.033205       0.130246   \n",
      "added_lines       0.241940     1.000000       0.639304       0.645798   \n",
      "deleted_lines     0.033205     0.639304       1.000000       0.679801   \n",
      "changed_lines     0.130246     0.645798       0.679801       1.000000   \n",
      "num_files         0.155489     0.446475       0.487067       0.601955   \n",
      "reviews_num       0.282137    -0.000509      -0.041307      -0.016648   \n",
      "comments_num      0.197450     0.011972      -0.030917      -0.017862   \n",
      "is_merged        -0.076212     0.074864       0.097065       0.063716   \n",
      "\n",
      "               num_files  reviews_num  comments_num  is_merged  \n",
      "num_commits     0.155489     0.282137      0.197450  -0.076212  \n",
      "added_lines     0.446475    -0.000509      0.011972   0.074864  \n",
      "deleted_lines   0.487067    -0.041307     -0.030917   0.097065  \n",
      "changed_lines   0.601955    -0.016648     -0.017862   0.063716  \n",
      "num_files       1.000000    -0.007964      0.019551   0.051042  \n",
      "reviews_num    -0.007964     1.000000      0.720598  -0.183696  \n",
      "comments_num    0.019551     0.720598      1.000000  -0.143555  \n",
      "is_merged       0.051042    -0.183696     -0.143555   1.000000  \n"
     ]
    }
   ],
   "source": [
    "# Calculate correlation coefficient between each feature and target variable\n",
    "corr_matrix = df.corr()\n",
    "\n",
    "# Print the correlation matrix\n",
    "print(corr_matrix)"
   ]
  },
  {
   "cell_type": "code",
   "execution_count": 30,
   "id": "000d0141",
   "metadata": {},
   "outputs": [
    {
     "name": "stdout",
     "output_type": "stream",
     "text": [
      "-0.14355489227363252\n"
     ]
    }
   ],
   "source": [
    "# Extract the correlation coefficient between 'feature1' and the target variable\n",
    "corr_coefficient = df['comments_num'].corr(df['is_merged'])\n",
    "\n",
    "# Print the correlation coefficient\n",
    "print(corr_coefficient)"
   ]
  },
  {
   "cell_type": "code",
   "execution_count": 34,
   "id": "18c95ebb",
   "metadata": {},
   "outputs": [
    {
     "data": {
      "text/plain": [
       "Index(['num_commits', 'added_lines', 'deleted_lines', 'changed_lines',\n",
       "       'num_files', 'reviews_num', 'comments_num', 'is_merged'],\n",
       "      dtype='object')"
      ]
     },
     "execution_count": 34,
     "metadata": {},
     "output_type": "execute_result"
    }
   ],
   "source": [
    "df.columns"
   ]
  },
  {
   "cell_type": "code",
   "execution_count": null,
   "id": "67188b17",
   "metadata": {},
   "outputs": [],
   "source": []
  },
  {
   "cell_type": "markdown",
   "id": "f80693fa",
   "metadata": {},
   "source": [
    "## Cross-Validation to choose best model"
   ]
  },
  {
   "cell_type": "code",
   "execution_count": 51,
   "id": "da0d698d",
   "metadata": {},
   "outputs": [],
   "source": [
    "X = df.loc[:, ['num_commits', 'added_lines', 'deleted_lines', 'changed_lines','num_files', 'reviews_num', 'comments_num']]\n",
    "y = df.loc[:, 'is_merged']"
   ]
  },
  {
   "cell_type": "code",
   "execution_count": null,
   "id": "43f5d4c0",
   "metadata": {},
   "outputs": [],
   "source": [
    "from sklearn.model_selection import KFold\n",
    "from sklearn.model_selection import cross_val_score\n",
    "from sklearn.tree import DecisionTreeClassifier\n",
    "from sklearn.naive_bayes import BernoulliNB\n",
    "from sklearn.naive_bayes import GaussianNB\n",
    "from sklearn.neighbors import KNeighborsClassifier\n",
    "from sklearn.discriminant_analysis import LinearDiscriminantAnalysis\n",
    "from sklearn.linear_model import LogisticRegression\n",
    "from sklearn.neural_network import MLPClassifier\n",
    "from sklearn.neighbors import NearestCentroid\n",
    "from sklearn.linear_model import RidgeClassifier\n",
    "from sklearn.svm import SVC\n",
    "from sklearn.linear_model import SGDClassifier, PassiveAggressiveClassifier\n",
    "from sklearn.model_selection import train_test_split\n",
    "    \n",
    "    \n",
    "# Assuming you have your data in X and y variables\n",
    "# Create a KFold object with the number of folds you want\n",
    "kfold = KFold(n_splits=5, shuffle=True, random_state=42)\n",
    "\n",
    "\n",
    "# Create your model object\n",
    "#model = MyModel()\n",
    "#model = DecisionTreeClassifier()\n",
    "#model = BernoulliNB()\n",
    "#model = GaussianNB()\n",
    "#model = KNeighborsClassifier()\n",
    "model = LinearDiscriminantAnalysis()\n",
    "#model = LogisticRegression()\n",
    "#model = MLPClassifier(hidden_layer_sizes=(100,), max_iter=1000)\n",
    "#model = NearestCentroid()\n",
    "#model = QuadraticDiscriminantAnalysis()\n",
    "#model = RidgeClassifier()\n",
    "#model = SVC(kernel='linear', C=1.0)\n",
    "#model = SVC(kernel='linear')\n",
    "#model = SGDClassifier()\n",
    "\n",
    "\n",
    "# Use the cross_val_score function to get an array of scores for each fold\n",
    "# Here, we're using accuracy as the scoring metric, but you can use other metrics as well\n",
    "scores = cross_val_score(model, X, y, cv=kfold, scoring='accuracy')\n",
    "\n",
    "# Print the average score and the standard deviation of the scores\n",
    "print(\"Model :\",model)\n",
    "print(\"Accuracy: %0.2f (+/- %0.2f)\" % (scores.mean(), scores.std() * 2))"
   ]
  },
  {
   "cell_type": "markdown",
   "id": "fa76596f",
   "metadata": {},
   "source": [
    "### Model training"
   ]
  },
  {
   "cell_type": "code",
   "execution_count": 39,
   "id": "12a5b72b",
   "metadata": {},
   "outputs": [],
   "source": [
    "# Split the data into train and test sets first, using an 80/20 split\n",
    "X_train, X_test, y_train, y_test = train_test_split(X, y, test_size=0.2, random_state=42)\n",
    "    \n",
    "    \n",
    "# Train your model on the training data\n",
    "model.fit(X_train, y_train)\n",
    "    \n",
    "# Make predictions on the test data\n",
    "y_pred = model.predict(X_test)"
   ]
  },
  {
   "cell_type": "markdown",
   "id": "9ec18a25",
   "metadata": {},
   "source": [
    "## Model evaluation"
   ]
  },
  {
   "cell_type": "code",
   "execution_count": 43,
   "id": "dfd1b96e",
   "metadata": {
    "scrolled": true
   },
   "outputs": [
    {
     "name": "stdout",
     "output_type": "stream",
     "text": [
      "accuracy: 0.8823529411764706  precision : 0.8859060402684564  recall: 0.9924812030075187  f1 0.9361702127659575\n"
     ]
    }
   ],
   "source": [
    "accuracy = accuracy_score(y_test, y_pred)\n",
    "precision = precision_score(y_test, y_pred)\n",
    "recall = recall_score(y_test, y_pred)\n",
    "f1 = f1_score(y_test , y_pred)\n",
    "print(\"accuracy:\",accuracy,\" precision :\",precision,\" recall:\",recall,\" f1\",f1)"
   ]
  },
  {
   "cell_type": "code",
   "execution_count": null,
   "id": "b52395e6",
   "metadata": {},
   "outputs": [],
   "source": []
  },
  {
   "cell_type": "code",
   "execution_count": null,
   "id": "40345834",
   "metadata": {},
   "outputs": [],
   "source": []
  },
  {
   "cell_type": "code",
   "execution_count": null,
   "id": "3b605451",
   "metadata": {},
   "outputs": [],
   "source": []
  },
  {
   "cell_type": "markdown",
   "id": "8a30459e",
   "metadata": {},
   "source": [
    "The correlation coefficient measures the strength and direction of the linear relationship between two variables. The higher the absolute value of the correlation coefficient, the more important the feature."
   ]
  },
  {
   "cell_type": "markdown",
   "id": "5fc9b574",
   "metadata": {},
   "source": [
    "## Compare to baseline "
   ]
  },
  {
   "cell_type": "code",
   "execution_count": 5,
   "id": "bfef57a0",
   "metadata": {},
   "outputs": [
    {
     "name": "stdout",
     "output_type": "stream",
     "text": [
      "Test accuracy: 0.56\n"
     ]
    }
   ],
   "source": [
    "# Define the class labels\n",
    "labels = [0, 1]\n",
    "\n",
    "# Define the probability distribution\n",
    "probs = [0.5, 0.5]  # uniform distribution\n",
    "\n",
    "# Generate random labels for 100 samples\n",
    "num_samples = 100\n",
    "random_labels = np.random.choice(labels, size=num_samples, p=probs)\n",
    "\n",
    "# Train a model on the random labels and input features\n",
    "# (replace this with your actual training code)\n",
    "from sklearn.linear_model import LogisticRegression\n",
    "\n",
    "X = np.random.randn(num_samples, 10)  # example input features\n",
    "y = random_labels\n",
    "model = LogisticRegression().fit(X, y)\n",
    "\n",
    "# Evaluate the model on a test set\n",
    "# (replace this with your actual evaluation code)\n",
    "test_X = np.random.randn(50, 10)  # example test set\n",
    "test_y = np.random.choice(labels, size=50, p=probs)\n",
    "test_acc = model.score(test_X, test_y)\n",
    "print(f\"Test accuracy: {test_acc}\")"
   ]
  },
  {
   "cell_type": "code",
   "execution_count": null,
   "id": "74b43b73",
   "metadata": {},
   "outputs": [],
   "source": []
  }
 ],
 "metadata": {
  "kernelspec": {
   "display_name": "Python 3",
   "language": "python",
   "name": "python3"
  },
  "language_info": {
   "codemirror_mode": {
    "name": "ipython",
    "version": 3
   },
   "file_extension": ".py",
   "mimetype": "text/x-python",
   "name": "python",
   "nbconvert_exporter": "python",
   "pygments_lexer": "ipython3",
   "version": "3.8.8"
  }
 },
 "nbformat": 4,
 "nbformat_minor": 5
}
