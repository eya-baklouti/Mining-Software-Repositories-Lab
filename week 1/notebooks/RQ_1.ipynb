{
 "cells": [
  {
   "cell_type": "markdown",
   "id": "ec0c8552",
   "metadata": {},
   "source": [
    "# RQ1 Does SATD in code comments correlate with high code complexity?"
   ]
  },
  {
   "cell_type": "code",
   "execution_count": 84,
   "id": "0b60144b",
   "metadata": {},
   "outputs": [],
   "source": [
    "import pandas as pd\n",
    "import scipy as sp\n",
    "import matplotlib.pyplot as plt\n",
    "import sklearn\n",
    "import seaborn as sns\n",
    "import numpy as np"
   ]
  },
  {
   "cell_type": "markdown",
   "id": "2b582430",
   "metadata": {},
   "source": [
    "#### Compare the complexity change in file changes where the number of SATD comments in the file increases with changes where that is not the case."
   ]
  },
  {
   "cell_type": "code",
   "execution_count": 87,
   "id": "c55ace8c",
   "metadata": {},
   "outputs": [],
   "source": [
    "df1 = pd.read_excel('final_jessie.xlsx')\n",
    "df2 = pd.read_excel('final_commons-vfs  (2).xlsx')\n",
    "df3 = pd.read_excel('final_javalin.xlsx')\n",
    "df = pd.concat([df1, df2, df3], axis=0)"
   ]
  },
  {
   "cell_type": "code",
   "execution_count": 88,
   "id": "70a3833d",
   "metadata": {
    "scrolled": true
   },
   "outputs": [
    {
     "data": {
      "text/html": [
       "<div>\n",
       "<style scoped>\n",
       "    .dataframe tbody tr th:only-of-type {\n",
       "        vertical-align: middle;\n",
       "    }\n",
       "\n",
       "    .dataframe tbody tr th {\n",
       "        vertical-align: top;\n",
       "    }\n",
       "\n",
       "    .dataframe thead th {\n",
       "        text-align: right;\n",
       "    }\n",
       "</style>\n",
       "<table border=\"1\" class=\"dataframe\">\n",
       "  <thead>\n",
       "    <tr style=\"text-align: right;\">\n",
       "      <th></th>\n",
       "      <th>hash</th>\n",
       "      <th>file_name</th>\n",
       "      <th>method_name</th>\n",
       "      <th>Date</th>\n",
       "      <th>before_satd</th>\n",
       "      <th>before_ccn</th>\n",
       "      <th>after_satd</th>\n",
       "      <th>after_ccn</th>\n",
       "      <th>commit_message</th>\n",
       "    </tr>\n",
       "  </thead>\n",
       "  <tbody>\n",
       "    <tr>\n",
       "      <th>0</th>\n",
       "      <td>989f346ee39bc738e8ff1cbe2c08e6aad2aecd11</td>\n",
       "      <td>DefaultSessionManager.java</td>\n",
       "      <td>DefaultSessionManager::DefaultSessionManager</td>\n",
       "      <td>commit.committer_date</td>\n",
       "      <td>0</td>\n",
       "      <td>1</td>\n",
       "      <td>0</td>\n",
       "      <td>1</td>\n",
       "      <td>Changed things to be more dynamic</td>\n",
       "    </tr>\n",
       "    <tr>\n",
       "      <th>1</th>\n",
       "      <td>989f346ee39bc738e8ff1cbe2c08e6aad2aecd11</td>\n",
       "      <td>DefaultSessionManager.java</td>\n",
       "      <td>DefaultSessionManager::onClose</td>\n",
       "      <td>commit.committer_date</td>\n",
       "      <td>0</td>\n",
       "      <td>1</td>\n",
       "      <td>0</td>\n",
       "      <td>1</td>\n",
       "      <td>Changed things to be more dynamic</td>\n",
       "    </tr>\n",
       "    <tr>\n",
       "      <th>2</th>\n",
       "      <td>989f346ee39bc738e8ff1cbe2c08e6aad2aecd11</td>\n",
       "      <td>DefaultSessionManager.java</td>\n",
       "      <td>DefaultSessionManager::onOpen</td>\n",
       "      <td>commit.committer_date</td>\n",
       "      <td>0</td>\n",
       "      <td>1</td>\n",
       "      <td>0</td>\n",
       "      <td>1</td>\n",
       "      <td>Changed things to be more dynamic</td>\n",
       "    </tr>\n",
       "    <tr>\n",
       "      <th>3</th>\n",
       "      <td>989f346ee39bc738e8ff1cbe2c08e6aad2aecd11</td>\n",
       "      <td>DefaultSessionManager.java</td>\n",
       "      <td>DefaultSessionManager::broadcast</td>\n",
       "      <td>commit.committer_date</td>\n",
       "      <td>0</td>\n",
       "      <td>1</td>\n",
       "      <td>0</td>\n",
       "      <td>1</td>\n",
       "      <td>Changed things to be more dynamic</td>\n",
       "    </tr>\n",
       "    <tr>\n",
       "      <th>4</th>\n",
       "      <td>989f346ee39bc738e8ff1cbe2c08e6aad2aecd11</td>\n",
       "      <td>EventStreamServlet.java</td>\n",
       "      <td>EventStreamServlet::init</td>\n",
       "      <td>commit.committer_date</td>\n",
       "      <td>0</td>\n",
       "      <td>1</td>\n",
       "      <td>0</td>\n",
       "      <td>2</td>\n",
       "      <td>Changed things to be more dynamic</td>\n",
       "    </tr>\n",
       "    <tr>\n",
       "      <th>...</th>\n",
       "      <td>...</td>\n",
       "      <td>...</td>\n",
       "      <td>...</td>\n",
       "      <td>...</td>\n",
       "      <td>...</td>\n",
       "      <td>...</td>\n",
       "      <td>...</td>\n",
       "      <td>...</td>\n",
       "      <td>...</td>\n",
       "    </tr>\n",
       "    <tr>\n",
       "      <th>437</th>\n",
       "      <td>09764abbcd8b9973063b45a9f61cf80cfdde900a</td>\n",
       "      <td>JavaTest.java</td>\n",
       "      <td>JavaTest::instantiate_JavalinTestTool</td>\n",
       "      <td>commit.committer_date</td>\n",
       "      <td>0</td>\n",
       "      <td>1</td>\n",
       "      <td>0</td>\n",
       "      <td>1</td>\n",
       "      <td>[testtools] Make it possible to instantiate a ...</td>\n",
       "    </tr>\n",
       "    <tr>\n",
       "      <th>438</th>\n",
       "      <td>a0510d8c7e81c438ff66249f183be9aa8c80d60c</td>\n",
       "      <td>JavaTest.java</td>\n",
       "      <td>JavaTest::exceptions_in_test_code_get_rethrown</td>\n",
       "      <td>commit.committer_date</td>\n",
       "      <td>0</td>\n",
       "      <td>1</td>\n",
       "      <td>0</td>\n",
       "      <td>1</td>\n",
       "      <td>[testtool] Add test cases for exception handli...</td>\n",
       "    </tr>\n",
       "    <tr>\n",
       "      <th>439</th>\n",
       "      <td>a0510d8c7e81c438ff66249f183be9aa8c80d60c</td>\n",
       "      <td>JavaTest.java</td>\n",
       "      <td>JavaTest::exceptions_in_handler_code_are_caugh...</td>\n",
       "      <td>commit.committer_date</td>\n",
       "      <td>0</td>\n",
       "      <td>1</td>\n",
       "      <td>0</td>\n",
       "      <td>1</td>\n",
       "      <td>[testtool] Add test cases for exception handli...</td>\n",
       "    </tr>\n",
       "    <tr>\n",
       "      <th>440</th>\n",
       "      <td>a0510d8c7e81c438ff66249f183be9aa8c80d60c</td>\n",
       "      <td>JavaTest.java</td>\n",
       "      <td>JavaTest::exception_in_handler_code_is_include...</td>\n",
       "      <td>commit.committer_date</td>\n",
       "      <td>0</td>\n",
       "      <td>1</td>\n",
       "      <td>0</td>\n",
       "      <td>2</td>\n",
       "      <td>[testtool] Add test cases for exception handli...</td>\n",
       "    </tr>\n",
       "    <tr>\n",
       "      <th>441</th>\n",
       "      <td>63fc1baa73ad03828e48a2b190181fd7789902fd</td>\n",
       "      <td>Javalin.java</td>\n",
       "      <td>Javalin::updateConfig</td>\n",
       "      <td>commit.committer_date</td>\n",
       "      <td>0</td>\n",
       "      <td>1</td>\n",
       "      <td>0</td>\n",
       "      <td>1</td>\n",
       "      <td>[config] Add Javalin#updateConfig to allow con...</td>\n",
       "    </tr>\n",
       "  </tbody>\n",
       "</table>\n",
       "<p>3259 rows × 9 columns</p>\n",
       "</div>"
      ],
      "text/plain": [
       "                                         hash                   file_name  \\\n",
       "0    989f346ee39bc738e8ff1cbe2c08e6aad2aecd11  DefaultSessionManager.java   \n",
       "1    989f346ee39bc738e8ff1cbe2c08e6aad2aecd11  DefaultSessionManager.java   \n",
       "2    989f346ee39bc738e8ff1cbe2c08e6aad2aecd11  DefaultSessionManager.java   \n",
       "3    989f346ee39bc738e8ff1cbe2c08e6aad2aecd11  DefaultSessionManager.java   \n",
       "4    989f346ee39bc738e8ff1cbe2c08e6aad2aecd11     EventStreamServlet.java   \n",
       "..                                        ...                         ...   \n",
       "437  09764abbcd8b9973063b45a9f61cf80cfdde900a               JavaTest.java   \n",
       "438  a0510d8c7e81c438ff66249f183be9aa8c80d60c               JavaTest.java   \n",
       "439  a0510d8c7e81c438ff66249f183be9aa8c80d60c               JavaTest.java   \n",
       "440  a0510d8c7e81c438ff66249f183be9aa8c80d60c               JavaTest.java   \n",
       "441  63fc1baa73ad03828e48a2b190181fd7789902fd                Javalin.java   \n",
       "\n",
       "                                           method_name                   Date  \\\n",
       "0         DefaultSessionManager::DefaultSessionManager  commit.committer_date   \n",
       "1                       DefaultSessionManager::onClose  commit.committer_date   \n",
       "2                        DefaultSessionManager::onOpen  commit.committer_date   \n",
       "3                     DefaultSessionManager::broadcast  commit.committer_date   \n",
       "4                             EventStreamServlet::init  commit.committer_date   \n",
       "..                                                 ...                    ...   \n",
       "437              JavaTest::instantiate_JavalinTestTool  commit.committer_date   \n",
       "438     JavaTest::exceptions_in_test_code_get_rethrown  commit.committer_date   \n",
       "439  JavaTest::exceptions_in_handler_code_are_caugh...  commit.committer_date   \n",
       "440  JavaTest::exception_in_handler_code_is_include...  commit.committer_date   \n",
       "441                              Javalin::updateConfig  commit.committer_date   \n",
       "\n",
       "     before_satd  before_ccn  after_satd  after_ccn  \\\n",
       "0              0           1           0          1   \n",
       "1              0           1           0          1   \n",
       "2              0           1           0          1   \n",
       "3              0           1           0          1   \n",
       "4              0           1           0          2   \n",
       "..           ...         ...         ...        ...   \n",
       "437            0           1           0          1   \n",
       "438            0           1           0          1   \n",
       "439            0           1           0          1   \n",
       "440            0           1           0          2   \n",
       "441            0           1           0          1   \n",
       "\n",
       "                                        commit_message  \n",
       "0                    Changed things to be more dynamic  \n",
       "1                    Changed things to be more dynamic  \n",
       "2                    Changed things to be more dynamic  \n",
       "3                    Changed things to be more dynamic  \n",
       "4                    Changed things to be more dynamic  \n",
       "..                                                 ...  \n",
       "437  [testtools] Make it possible to instantiate a ...  \n",
       "438  [testtool] Add test cases for exception handli...  \n",
       "439  [testtool] Add test cases for exception handli...  \n",
       "440  [testtool] Add test cases for exception handli...  \n",
       "441  [config] Add Javalin#updateConfig to allow con...  \n",
       "\n",
       "[3259 rows x 9 columns]"
      ]
     },
     "execution_count": 88,
     "metadata": {},
     "output_type": "execute_result"
    }
   ],
   "source": [
    "df"
   ]
  },
  {
   "cell_type": "code",
   "execution_count": 89,
   "id": "5a9500fc",
   "metadata": {},
   "outputs": [],
   "source": [
    "def calculate_diff_satd_ccn(df):\n",
    "    df['diff_ccn']=df['after_ccn']-df['before_ccn']\n",
    "    df['diff_satd']=df['after_satd']-df['before_satd']\n",
    "    return df"
   ]
  },
  {
   "cell_type": "code",
   "execution_count": 91,
   "id": "16531fb4",
   "metadata": {},
   "outputs": [],
   "source": [
    "df=calculate_diff_satd_ccn(df)"
   ]
  },
  {
   "cell_type": "code",
   "execution_count": 92,
   "id": "a1fdbfec",
   "metadata": {},
   "outputs": [],
   "source": [
    "df_satd_increased=df[df['diff_satd']>0]\n",
    "df_satd_not_changed=df[df['diff_satd']==0]\n",
    "df_satd_decreased=df[df['diff_satd']<0]"
   ]
  },
  {
   "cell_type": "code",
   "execution_count": 93,
   "id": "2c28528e",
   "metadata": {
    "scrolled": true
   },
   "outputs": [
    {
     "data": {
      "text/html": [
       "<div>\n",
       "<style scoped>\n",
       "    .dataframe tbody tr th:only-of-type {\n",
       "        vertical-align: middle;\n",
       "    }\n",
       "\n",
       "    .dataframe tbody tr th {\n",
       "        vertical-align: top;\n",
       "    }\n",
       "\n",
       "    .dataframe thead th {\n",
       "        text-align: right;\n",
       "    }\n",
       "</style>\n",
       "<table border=\"1\" class=\"dataframe\">\n",
       "  <thead>\n",
       "    <tr style=\"text-align: right;\">\n",
       "      <th></th>\n",
       "      <th>hash</th>\n",
       "      <th>file_name</th>\n",
       "      <th>method_name</th>\n",
       "      <th>Date</th>\n",
       "      <th>before_satd</th>\n",
       "      <th>before_ccn</th>\n",
       "      <th>after_satd</th>\n",
       "      <th>after_ccn</th>\n",
       "      <th>commit_message</th>\n",
       "      <th>diff_ccn</th>\n",
       "      <th>diff_satd</th>\n",
       "    </tr>\n",
       "  </thead>\n",
       "  <tbody>\n",
       "    <tr>\n",
       "      <th>1067</th>\n",
       "      <td>3f2f313cd15a9cfaa0c77827d1ede7d0ed2a8a59</td>\n",
       "      <td>FramedSnappyCompressorInputStream.java</td>\n",
       "      <td>FramedSnappyCompressorInputStream::unmask</td>\n",
       "      <td>commit.committer_date</td>\n",
       "      <td>0</td>\n",
       "      <td>2</td>\n",
       "      <td>1</td>\n",
       "      <td>1</td>\n",
       "      <td>COMPRESS-147 checksum verification\\n\\ngit-svn-...</td>\n",
       "      <td>-1</td>\n",
       "      <td>1</td>\n",
       "    </tr>\n",
       "  </tbody>\n",
       "</table>\n",
       "</div>"
      ],
      "text/plain": [
       "                                          hash  \\\n",
       "1067  3f2f313cd15a9cfaa0c77827d1ede7d0ed2a8a59   \n",
       "\n",
       "                                   file_name  \\\n",
       "1067  FramedSnappyCompressorInputStream.java   \n",
       "\n",
       "                                    method_name                   Date  \\\n",
       "1067  FramedSnappyCompressorInputStream::unmask  commit.committer_date   \n",
       "\n",
       "      before_satd  before_ccn  after_satd  after_ccn  \\\n",
       "1067            0           2           1          1   \n",
       "\n",
       "                                         commit_message  diff_ccn  diff_satd  \n",
       "1067  COMPRESS-147 checksum verification\\n\\ngit-svn-...        -1          1  "
      ]
     },
     "execution_count": 93,
     "metadata": {},
     "output_type": "execute_result"
    }
   ],
   "source": [
    "df_satd_increased"
   ]
  },
  {
   "cell_type": "code",
   "execution_count": 94,
   "id": "15794ccb",
   "metadata": {},
   "outputs": [
    {
     "data": {
      "image/png": "[encoded data removed]",
      "text/plain": [
       "<Figure size 432x288 with 1 Axes>"
      ]
     },
     "metadata": {
      "needs_background": "light"
     },
     "output_type": "display_data"
    }
   ],
   "source": [
    "plt.boxplot(df_satd_increased['diff_ccn'])\n",
    "\n",
    "# Set the y-axis label\n",
    "plt.ylabel('diff_ccn')\n",
    "\n",
    "# Set the title of the plot\n",
    "plt.title('Box Plot of diff_ccn')\n",
    "\n",
    "# Display the plot\n",
    "plt.show()"
   ]
  },
  {
   "cell_type": "code",
   "execution_count": 95,
   "id": "77ea7fd9",
   "metadata": {},
   "outputs": [
    {
     "data": {
      "image/png": "[encoded data removed]",
      "text/plain": [
       "<Figure size 432x288 with 1 Axes>"
      ]
     },
     "metadata": {
      "needs_background": "light"
     },
     "output_type": "display_data"
    }
   ],
   "source": [
    "plt.boxplot(df_satd_not_changed['diff_ccn'])\n",
    "\n",
    "# Set the y-axis label\n",
    "plt.ylabel('diff_ccn')\n",
    "\n",
    "# Set the title of the plot\n",
    "plt.title('Box Plot of diff_ccn')\n",
    "\n",
    "# Display the plot\n",
    "plt.show()"
   ]
  },
  {
   "cell_type": "code",
   "execution_count": 97,
   "id": "168a57c9",
   "metadata": {},
   "outputs": [],
   "source": [
    "sample1 = df_satd_not_changed['diff_ccn']\n",
    "sample2 = df_satd_increased['diff_ccn']"
   ]
  },
  {
   "cell_type": "markdown",
   "id": "09008b3c",
   "metadata": {},
   "source": [
    "#### T-test"
   ]
  },
  {
   "cell_type": "markdown",
   "id": "92e1ff01",
   "metadata": {},
   "source": [
    "t-test is used to compare the means of two groups of data.It assumes that the data is normally distributed and the variances of the two groups are equal."
   ]
  },
  {
   "cell_type": "code",
   "execution_count": 98,
   "id": "d3c6397d",
   "metadata": {},
   "outputs": [
    {
     "name": "stdout",
     "output_type": "stream",
     "text": [
      "t-statistic:  nan\n",
      "p-value:  nan\n"
     ]
    },
    {
     "name": "stderr",
     "output_type": "stream",
     "text": [
      "C:\\Users\\Asus\\anaconda3\\lib\\site-packages\\numpy\\core\\fromnumeric.py:3702: RuntimeWarning: Degrees of freedom <= 0 for slice\n",
      "  return _methods._var(a, axis=axis, dtype=dtype, out=out, ddof=ddof,\n",
      "C:\\Users\\Asus\\anaconda3\\lib\\site-packages\\numpy\\core\\_methods.py:253: RuntimeWarning: invalid value encountered in double_scalars\n",
      "  ret = ret.dtype.type(ret / rcount)\n"
     ]
    }
   ],
   "source": [
    "from scipy.stats import ttest_ind\n",
    "\n",
    "# Calculate the t-test\n",
    "\n",
    "t_stat, p_value = ttest_ind(sample1, sample2)\n",
    "\n",
    "# Print the results\n",
    "print(\"t-statistic: \", t_stat)\n",
    "print(\"p-value: \", p_value)"
   ]
  },
  {
   "cell_type": "markdown",
   "id": "f7c0e18d",
   "metadata": {},
   "source": [
    "#### Mann-Whitney U test"
   ]
  },
  {
   "cell_type": "markdown",
   "id": "80cc6a0d",
   "metadata": {},
   "source": [
    "Mann-Whitney U test, is used to determine if two independent samples have different distributions."
   ]
  },
  {
   "cell_type": "code",
   "execution_count": 34,
   "id": "a8e7ebab",
   "metadata": {},
   "outputs": [
    {
     "name": "stdout",
     "output_type": "stream",
     "text": [
      "U-statistic: -2.32379000772445\n",
      "p-value: 0.02013675155034634\n"
     ]
    }
   ],
   "source": [
    "from scipy.stats import ranksums\n",
    "\n",
    "\n",
    "# conduct the Wilcoxon rank-sum test\n",
    "u_stat, p_value = ranksums(sample1,sample2)\n",
    "\n",
    "# print the results\n",
    "print(\"U-statistic:\", u_stat)\n",
    "print(\"p-value:\", p_value)"
   ]
  },
  {
   "cell_type": "markdown",
   "id": "9d9f9a26",
   "metadata": {},
   "source": [
    "#### Cohen’s d"
   ]
  },
  {
   "cell_type": "markdown",
   "id": "775c492b",
   "metadata": {},
   "source": [
    "Cohen's d is a statistical measure that quantifies the effect size of the difference between two groups or samples. It is a commonly used measure in scientific research to evaluate the magnitude of the difference between groups, regardless of sample size."
   ]
  },
  {
   "cell_type": "code",
   "execution_count": 40,
   "id": "90bbf138",
   "metadata": {},
   "outputs": [],
   "source": [
    "def cohen_d(group1, group2):\n",
    "    \"\"\"Calculate Cohen's d effect size for two groups\"\"\"\n",
    "    # Calculate the means of the two groups\n",
    "    mean1, mean2 = np.mean(group1), np.mean(group2)\n",
    "    # Calculate the pooled standard deviation of the two groups\n",
    "    n1, n2 = len(group1), len(group2)\n",
    "    pooled_sd = np.sqrt(((n1-1)*np.var(group1)+(n2-1)*np.var(group2))/(n1+n2-2))\n",
    "    # Calculate Cohen's d\n",
    "    d = (mean1 - mean2) / pooled_sd\n",
    "    return d"
   ]
  },
  {
   "cell_type": "code",
   "execution_count": 38,
   "id": "7b2527dd",
   "metadata": {},
   "outputs": [],
   "source": [
    "d=cohen_d(sample1, sample2)"
   ]
  },
  {
   "cell_type": "code",
   "execution_count": 39,
   "id": "385a9bde",
   "metadata": {},
   "outputs": [
    {
     "data": {
      "text/plain": [
       "-1.511160379708186"
      ]
     },
     "execution_count": 39,
     "metadata": {},
     "output_type": "execute_result"
    }
   ],
   "source": [
    "d"
   ]
  },
  {
   "cell_type": "code",
   "execution_count": null,
   "id": "05277380",
   "metadata": {},
   "outputs": [],
   "source": []
  }
 ],
 "metadata": {
  "kernelspec": {
   "display_name": "Python 3",
   "language": "python",
   "name": "python3"
  },
  "language_info": {
   "codemirror_mode": {
    "name": "ipython",
    "version": 3
   },
   "file_extension": ".py",
   "mimetype": "text/x-python",
   "name": "python",
   "nbconvert_exporter": "python",
   "pygments_lexer": "ipython3",
   "version": "3.8.8"
  }
 },
 "nbformat": 4,
 "nbformat_minor": 5
}
