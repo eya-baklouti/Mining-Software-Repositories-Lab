{
 "cells": [
  {
   "attachments": {},
   "cell_type": "markdown",
   "id": "72115ff3",
   "metadata": {},
   "source": [
    "# RQ2 Does SATD in commit messages correlate with high code complexity?"
   ]
  },
  {
   "cell_type": "code",
   "execution_count": 50,
   "id": "32e1f7d5",
   "metadata": {},
   "outputs": [],
   "source": [
    "import matplotlib.pyplot as plt\n",
    "import pandas as pd\n",
    "import seaborn as sns"
   ]
  },
  {
   "attachments": {},
   "cell_type": "markdown",
   "id": "77abe959",
   "metadata": {},
   "source": [
    "#### Compare the complexity change over the whole commit from commits with SATD comments with every other commit."
   ]
  },
  {
   "cell_type": "code",
   "execution_count": 51,
   "id": "127f910a",
   "metadata": {},
   "outputs": [],
   "source": [
    "df1 = pd.read_excel('../final_commons-compress_q2.xlsx')\n",
    "df2 = pd.read_excel('../final_commons-vfs_q2.xlsx')\n",
    "df3 = pd.read_excel('../final_javalin_q2.xlsx')\n",
    "df4 = pd.read_excel('../final_jessie_q2.xlsx')\n",
    "df = pd.concat([df1, df2, df3,df4], axis=0)\n"
   ]
  },
  {
   "cell_type": "code",
   "execution_count": 52,
   "id": "d07a0d4f",
   "metadata": {},
   "outputs": [
    {
     "data": {
      "text/html": [
       "<div>\n",
       "<style scoped>\n",
       "    .dataframe tbody tr th:only-of-type {\n",
       "        vertical-align: middle;\n",
       "    }\n",
       "\n",
       "    .dataframe tbody tr th {\n",
       "        vertical-align: top;\n",
       "    }\n",
       "\n",
       "    .dataframe thead th {\n",
       "        text-align: right;\n",
       "    }\n",
       "</style>\n",
       "<table border=\"1\" class=\"dataframe\">\n",
       "  <thead>\n",
       "    <tr style=\"text-align: right;\">\n",
       "      <th></th>\n",
       "      <th>hash</th>\n",
       "      <th>file_name</th>\n",
       "      <th>method_name</th>\n",
       "      <th>Date</th>\n",
       "      <th>before_satd</th>\n",
       "      <th>before_ccn</th>\n",
       "      <th>after_satd</th>\n",
       "      <th>after_ccn</th>\n",
       "      <th>commit_message</th>\n",
       "      <th>is_message_satd</th>\n",
       "    </tr>\n",
       "  </thead>\n",
       "  <tbody>\n",
       "    <tr>\n",
       "      <th>0</th>\n",
       "      <td>46bb5d4805aab058d441a30d809ff1199e634bd5</td>\n",
       "      <td>CBZip2InputStream.java</td>\n",
       "      <td>CBZip2InputStream::close</td>\n",
       "      <td>commit.committer_date</td>\n",
       "      <td>0</td>\n",
       "      <td>8</td>\n",
       "      <td>0</td>\n",
       "      <td>1</td>\n",
       "      <td>The underlying InputStream really should be cl...</td>\n",
       "      <td>False</td>\n",
       "    </tr>\n",
       "    <tr>\n",
       "      <th>1</th>\n",
       "      <td>9059501876ce6aa36e4e6d429556c3e88cd50d4e</td>\n",
       "      <td>BzipTestCase.java</td>\n",
       "      <td>BzipTestCase::testCBZip2InputStreamClose</td>\n",
       "      <td>commit.committer_date</td>\n",
       "      <td>0</td>\n",
       "      <td>1</td>\n",
       "      <td>0</td>\n",
       "      <td>2</td>\n",
       "      <td>PR: 36597\\nSubmitted by: Hiroki Ata &lt;hiroki.at...</td>\n",
       "      <td>False</td>\n",
       "    </tr>\n",
       "    <tr>\n",
       "      <th>2</th>\n",
       "      <td>2fdb96371d4619deb291979b45c9403d5e09f151</td>\n",
       "      <td>TarTestCase.java</td>\n",
       "      <td>TarTestCase::testArchive8GbFile</td>\n",
       "      <td>commit.committer_date</td>\n",
       "      <td>0</td>\n",
       "      <td>1</td>\n",
       "      <td>0</td>\n",
       "      <td>1</td>\n",
       "      <td>Fixed TarOutputStream for files bigger than 2G...</td>\n",
       "      <td>False</td>\n",
       "    </tr>\n",
       "    <tr>\n",
       "      <th>3</th>\n",
       "      <td>64eb32689dac0635530b704696d2b5eebecd47bb</td>\n",
       "      <td>ChangeSetTestCase.java</td>\n",
       "      <td>ChangeSetTestCase::testChangeSet</td>\n",
       "      <td>commit.committer_date</td>\n",
       "      <td>0</td>\n",
       "      <td>3</td>\n",
       "      <td>0</td>\n",
       "      <td>1</td>\n",
       "      <td>make it a test at least\\n\\n\\n\\ngit-svn-id: htt...</td>\n",
       "      <td>False</td>\n",
       "    </tr>\n",
       "    <tr>\n",
       "      <th>4</th>\n",
       "      <td>d1789e669d7abff2e9a8cf57110283d344d496cb</td>\n",
       "      <td>TarTestCase.java</td>\n",
       "      <td>TarTestCase::testTarArchiveLongNameCreation</td>\n",
       "      <td>commit.committer_date</td>\n",
       "      <td>0</td>\n",
       "      <td>1</td>\n",
       "      <td>0</td>\n",
       "      <td>2</td>\n",
       "      <td>applying patch from Christian Grobmeier\\n\\nhtt...</td>\n",
       "      <td>False</td>\n",
       "    </tr>\n",
       "    <tr>\n",
       "      <th>...</th>\n",
       "      <td>...</td>\n",
       "      <td>...</td>\n",
       "      <td>...</td>\n",
       "      <td>...</td>\n",
       "      <td>...</td>\n",
       "      <td>...</td>\n",
       "      <td>...</td>\n",
       "      <td>...</td>\n",
       "      <td>...</td>\n",
       "      <td>...</td>\n",
       "    </tr>\n",
       "    <tr>\n",
       "      <th>99</th>\n",
       "      <td>06cf84ad398827d05f9d046cbb7045907b1f74cc</td>\n",
       "      <td>SseSessionKeepAlive.java</td>\n",
       "      <td>SseSessionKeepAlive::schedule</td>\n",
       "      <td>commit.committer_date</td>\n",
       "      <td>0</td>\n",
       "      <td>1</td>\n",
       "      <td>0</td>\n",
       "      <td>1</td>\n",
       "      <td>Massive restructuring of executor services, to...</td>\n",
       "      <td>False</td>\n",
       "    </tr>\n",
       "    <tr>\n",
       "      <th>100</th>\n",
       "      <td>cb4059fa9a9a956115934150a2ae305bbf107def</td>\n",
       "      <td>SseEvent.java</td>\n",
       "      <td>SseEvent::getDataAsString</td>\n",
       "      <td>commit.committer_date</td>\n",
       "      <td>0</td>\n",
       "      <td>5</td>\n",
       "      <td>0</td>\n",
       "      <td>1</td>\n",
       "      <td>Added Mappers to unit test, to make sure that ...</td>\n",
       "      <td>False</td>\n",
       "    </tr>\n",
       "    <tr>\n",
       "      <th>101</th>\n",
       "      <td>6cb8a5817572c687b8f039feaba714c53f95abd0</td>\n",
       "      <td>SseSession.java</td>\n",
       "      <td>SseSession::getSessionId</td>\n",
       "      <td>commit.committer_date</td>\n",
       "      <td>0</td>\n",
       "      <td>1</td>\n",
       "      <td>0</td>\n",
       "      <td>1</td>\n",
       "      <td>added sessionId generation in the session mana...</td>\n",
       "      <td>False</td>\n",
       "    </tr>\n",
       "    <tr>\n",
       "      <th>102</th>\n",
       "      <td>6cb8a5817572c687b8f039feaba714c53f95abd0</td>\n",
       "      <td>SseSessionManager.java</td>\n",
       "      <td>SseSessionManager::getSessionId</td>\n",
       "      <td>commit.committer_date</td>\n",
       "      <td>0</td>\n",
       "      <td>3</td>\n",
       "      <td>0</td>\n",
       "      <td>1</td>\n",
       "      <td>added sessionId generation in the session mana...</td>\n",
       "      <td>False</td>\n",
       "    </tr>\n",
       "    <tr>\n",
       "      <th>103</th>\n",
       "      <td>4fa71b3f78f230ffe70703d547d6648d05ca6db2</td>\n",
       "      <td>BroadcastTest.java</td>\n",
       "      <td>BroadcastTest::checkPingTest</td>\n",
       "      <td>commit.committer_date</td>\n",
       "      <td>0</td>\n",
       "      <td>4</td>\n",
       "      <td>0</td>\n",
       "      <td>1</td>\n",
       "      <td>Added a unit test for ping</td>\n",
       "      <td>False</td>\n",
       "    </tr>\n",
       "  </tbody>\n",
       "</table>\n",
       "<p>5333 rows × 10 columns</p>\n",
       "</div>"
      ],
      "text/plain": [
       "                                         hash                 file_name  \\\n",
       "0    46bb5d4805aab058d441a30d809ff1199e634bd5    CBZip2InputStream.java   \n",
       "1    9059501876ce6aa36e4e6d429556c3e88cd50d4e         BzipTestCase.java   \n",
       "2    2fdb96371d4619deb291979b45c9403d5e09f151          TarTestCase.java   \n",
       "3    64eb32689dac0635530b704696d2b5eebecd47bb    ChangeSetTestCase.java   \n",
       "4    d1789e669d7abff2e9a8cf57110283d344d496cb          TarTestCase.java   \n",
       "..                                        ...                       ...   \n",
       "99   06cf84ad398827d05f9d046cbb7045907b1f74cc  SseSessionKeepAlive.java   \n",
       "100  cb4059fa9a9a956115934150a2ae305bbf107def             SseEvent.java   \n",
       "101  6cb8a5817572c687b8f039feaba714c53f95abd0           SseSession.java   \n",
       "102  6cb8a5817572c687b8f039feaba714c53f95abd0    SseSessionManager.java   \n",
       "103  4fa71b3f78f230ffe70703d547d6648d05ca6db2        BroadcastTest.java   \n",
       "\n",
       "                                     method_name                   Date  \\\n",
       "0                       CBZip2InputStream::close  commit.committer_date   \n",
       "1       BzipTestCase::testCBZip2InputStreamClose  commit.committer_date   \n",
       "2                TarTestCase::testArchive8GbFile  commit.committer_date   \n",
       "3               ChangeSetTestCase::testChangeSet  commit.committer_date   \n",
       "4    TarTestCase::testTarArchiveLongNameCreation  commit.committer_date   \n",
       "..                                           ...                    ...   \n",
       "99                 SseSessionKeepAlive::schedule  commit.committer_date   \n",
       "100                    SseEvent::getDataAsString  commit.committer_date   \n",
       "101                     SseSession::getSessionId  commit.committer_date   \n",
       "102              SseSessionManager::getSessionId  commit.committer_date   \n",
       "103                 BroadcastTest::checkPingTest  commit.committer_date   \n",
       "\n",
       "     before_satd  before_ccn  after_satd  after_ccn  \\\n",
       "0              0           8           0          1   \n",
       "1              0           1           0          2   \n",
       "2              0           1           0          1   \n",
       "3              0           3           0          1   \n",
       "4              0           1           0          2   \n",
       "..           ...         ...         ...        ...   \n",
       "99             0           1           0          1   \n",
       "100            0           5           0          1   \n",
       "101            0           1           0          1   \n",
       "102            0           3           0          1   \n",
       "103            0           4           0          1   \n",
       "\n",
       "                                        commit_message  is_message_satd  \n",
       "0    The underlying InputStream really should be cl...            False  \n",
       "1    PR: 36597\\nSubmitted by: Hiroki Ata <hiroki.at...            False  \n",
       "2    Fixed TarOutputStream for files bigger than 2G...            False  \n",
       "3    make it a test at least\\n\\n\\n\\ngit-svn-id: htt...            False  \n",
       "4    applying patch from Christian Grobmeier\\n\\nhtt...            False  \n",
       "..                                                 ...              ...  \n",
       "99   Massive restructuring of executor services, to...            False  \n",
       "100  Added Mappers to unit test, to make sure that ...            False  \n",
       "101  added sessionId generation in the session mana...            False  \n",
       "102  added sessionId generation in the session mana...            False  \n",
       "103                         Added a unit test for ping            False  \n",
       "\n",
       "[5333 rows x 10 columns]"
      ]
     },
     "execution_count": 52,
     "metadata": {},
     "output_type": "execute_result"
    }
   ],
   "source": [
    "df"
   ]
  },
  {
   "cell_type": "code",
   "execution_count": 41,
   "id": "4bc9ec45",
   "metadata": {
    "collapsed": false
   },
   "outputs": [],
   "source": [
    "def calculate_diff_satd_ccn(df):\n",
    "        df['diff_ccn'] = df['after_ccn'] - df['before_ccn']\n",
    "        return df\n"
   ]
  },
  {
   "cell_type": "code",
   "execution_count": 42,
   "id": "f1d2052d",
   "metadata": {
    "collapsed": false
   },
   "outputs": [],
   "source": [
    "df = calculate_diff_satd_ccn(df)"
   ]
  },
  {
   "cell_type": "code",
   "execution_count": 43,
   "id": "15f2e841",
   "metadata": {},
   "outputs": [],
   "source": [
    "df_message_has_satd = df[df['is_message_satd'] == True]\n",
    "df_message_has_not_satd = df[df['is_message_satd'] == False]\n"
   ]
  },
  {
   "cell_type": "code",
   "execution_count": 48,
   "id": "437625fb",
   "metadata": {
    "collapsed": false
   },
   "outputs": [
    {
     "data": {
      "text/html": [
       "<div>\n",
       "<style scoped>\n",
       "    .dataframe tbody tr th:only-of-type {\n",
       "        vertical-align: middle;\n",
       "    }\n",
       "\n",
       "    .dataframe tbody tr th {\n",
       "        vertical-align: top;\n",
       "    }\n",
       "\n",
       "    .dataframe thead th {\n",
       "        text-align: right;\n",
       "    }\n",
       "</style>\n",
       "<table border=\"1\" class=\"dataframe\">\n",
       "  <thead>\n",
       "    <tr style=\"text-align: right;\">\n",
       "      <th></th>\n",
       "      <th>hash</th>\n",
       "      <th>file_name</th>\n",
       "      <th>method_name</th>\n",
       "      <th>Date</th>\n",
       "      <th>before_satd</th>\n",
       "      <th>before_ccn</th>\n",
       "      <th>after_satd</th>\n",
       "      <th>after_ccn</th>\n",
       "      <th>commit_message</th>\n",
       "      <th>is_message_satd</th>\n",
       "      <th>diff_ccn</th>\n",
       "    </tr>\n",
       "  </thead>\n",
       "  <tbody>\n",
       "    <tr>\n",
       "      <th>67</th>\n",
       "      <td>463d6ebdebb2ea194254f1c3fab0a0f63ee212ce</td>\n",
       "      <td>ZipArchiveEntry.java</td>\n",
       "      <td>ZipArchiveEntry::ZipArchiveEntry</td>\n",
       "      <td>commit.committer_date</td>\n",
       "      <td>0</td>\n",
       "      <td>1</td>\n",
       "      <td>0</td>\n",
       "      <td>1</td>\n",
       "      <td>rename ZipEntry to ZipArchiveEntry\\n\\ngit-svn-...</td>\n",
       "      <td>True</td>\n",
       "      <td>0</td>\n",
       "    </tr>\n",
       "    <tr>\n",
       "      <th>68</th>\n",
       "      <td>463d6ebdebb2ea194254f1c3fab0a0f63ee212ce</td>\n",
       "      <td>ZipArchiveEntry.java</td>\n",
       "      <td>ZipArchiveEntry::clone</td>\n",
       "      <td>commit.committer_date</td>\n",
       "      <td>0</td>\n",
       "      <td>1</td>\n",
       "      <td>0</td>\n",
       "      <td>2</td>\n",
       "      <td>rename ZipEntry to ZipArchiveEntry\\n\\ngit-svn-...</td>\n",
       "      <td>True</td>\n",
       "      <td>1</td>\n",
       "    </tr>\n",
       "    <tr>\n",
       "      <th>69</th>\n",
       "      <td>463d6ebdebb2ea194254f1c3fab0a0f63ee212ce</td>\n",
       "      <td>ZipArchiveEntry.java</td>\n",
       "      <td>ZipArchiveEntry::getInternalAttributes</td>\n",
       "      <td>commit.committer_date</td>\n",
       "      <td>0</td>\n",
       "      <td>1</td>\n",
       "      <td>0</td>\n",
       "      <td>1</td>\n",
       "      <td>rename ZipEntry to ZipArchiveEntry\\n\\ngit-svn-...</td>\n",
       "      <td>True</td>\n",
       "      <td>0</td>\n",
       "    </tr>\n",
       "    <tr>\n",
       "      <th>70</th>\n",
       "      <td>463d6ebdebb2ea194254f1c3fab0a0f63ee212ce</td>\n",
       "      <td>ZipArchiveEntry.java</td>\n",
       "      <td>ZipArchiveEntry::setInternalAttributes</td>\n",
       "      <td>commit.committer_date</td>\n",
       "      <td>0</td>\n",
       "      <td>1</td>\n",
       "      <td>0</td>\n",
       "      <td>1</td>\n",
       "      <td>rename ZipEntry to ZipArchiveEntry\\n\\ngit-svn-...</td>\n",
       "      <td>True</td>\n",
       "      <td>0</td>\n",
       "    </tr>\n",
       "    <tr>\n",
       "      <th>71</th>\n",
       "      <td>463d6ebdebb2ea194254f1c3fab0a0f63ee212ce</td>\n",
       "      <td>ZipArchiveEntry.java</td>\n",
       "      <td>ZipArchiveEntry::getExternalAttributes</td>\n",
       "      <td>commit.committer_date</td>\n",
       "      <td>0</td>\n",
       "      <td>1</td>\n",
       "      <td>0</td>\n",
       "      <td>1</td>\n",
       "      <td>rename ZipEntry to ZipArchiveEntry\\n\\ngit-svn-...</td>\n",
       "      <td>True</td>\n",
       "      <td>0</td>\n",
       "    </tr>\n",
       "    <tr>\n",
       "      <th>...</th>\n",
       "      <td>...</td>\n",
       "      <td>...</td>\n",
       "      <td>...</td>\n",
       "      <td>...</td>\n",
       "      <td>...</td>\n",
       "      <td>...</td>\n",
       "      <td>...</td>\n",
       "      <td>...</td>\n",
       "      <td>...</td>\n",
       "      <td>...</td>\n",
       "      <td>...</td>\n",
       "    </tr>\n",
       "    <tr>\n",
       "      <th>437</th>\n",
       "      <td>09764abbcd8b9973063b45a9f61cf80cfdde900a</td>\n",
       "      <td>JavaTest.java</td>\n",
       "      <td>JavaTest::instantiate_JavalinTestTool</td>\n",
       "      <td>commit.committer_date</td>\n",
       "      <td>0</td>\n",
       "      <td>1</td>\n",
       "      <td>0</td>\n",
       "      <td>1</td>\n",
       "      <td>[testtools] Make it possible to instantiate a ...</td>\n",
       "      <td>True</td>\n",
       "      <td>0</td>\n",
       "    </tr>\n",
       "    <tr>\n",
       "      <th>438</th>\n",
       "      <td>a0510d8c7e81c438ff66249f183be9aa8c80d60c</td>\n",
       "      <td>JavaTest.java</td>\n",
       "      <td>JavaTest::exceptions_in_test_code_get_rethrown</td>\n",
       "      <td>commit.committer_date</td>\n",
       "      <td>0</td>\n",
       "      <td>1</td>\n",
       "      <td>0</td>\n",
       "      <td>1</td>\n",
       "      <td>[testtool] Add test cases for exception handli...</td>\n",
       "      <td>True</td>\n",
       "      <td>0</td>\n",
       "    </tr>\n",
       "    <tr>\n",
       "      <th>439</th>\n",
       "      <td>a0510d8c7e81c438ff66249f183be9aa8c80d60c</td>\n",
       "      <td>JavaTest.java</td>\n",
       "      <td>JavaTest::exceptions_in_handler_code_are_caugh...</td>\n",
       "      <td>commit.committer_date</td>\n",
       "      <td>0</td>\n",
       "      <td>1</td>\n",
       "      <td>0</td>\n",
       "      <td>1</td>\n",
       "      <td>[testtool] Add test cases for exception handli...</td>\n",
       "      <td>True</td>\n",
       "      <td>0</td>\n",
       "    </tr>\n",
       "    <tr>\n",
       "      <th>440</th>\n",
       "      <td>a0510d8c7e81c438ff66249f183be9aa8c80d60c</td>\n",
       "      <td>JavaTest.java</td>\n",
       "      <td>JavaTest::exception_in_handler_code_is_include...</td>\n",
       "      <td>commit.committer_date</td>\n",
       "      <td>0</td>\n",
       "      <td>1</td>\n",
       "      <td>0</td>\n",
       "      <td>2</td>\n",
       "      <td>[testtool] Add test cases for exception handli...</td>\n",
       "      <td>True</td>\n",
       "      <td>1</td>\n",
       "    </tr>\n",
       "    <tr>\n",
       "      <th>441</th>\n",
       "      <td>63fc1baa73ad03828e48a2b190181fd7789902fd</td>\n",
       "      <td>Javalin.java</td>\n",
       "      <td>Javalin::updateConfig</td>\n",
       "      <td>commit.committer_date</td>\n",
       "      <td>0</td>\n",
       "      <td>1</td>\n",
       "      <td>0</td>\n",
       "      <td>1</td>\n",
       "      <td>[config] Add Javalin#updateConfig to allow con...</td>\n",
       "      <td>True</td>\n",
       "      <td>0</td>\n",
       "    </tr>\n",
       "  </tbody>\n",
       "</table>\n",
       "<p>4992 rows × 11 columns</p>\n",
       "</div>"
      ],
      "text/plain": [
       "                                         hash             file_name  \\\n",
       "67   463d6ebdebb2ea194254f1c3fab0a0f63ee212ce  ZipArchiveEntry.java   \n",
       "68   463d6ebdebb2ea194254f1c3fab0a0f63ee212ce  ZipArchiveEntry.java   \n",
       "69   463d6ebdebb2ea194254f1c3fab0a0f63ee212ce  ZipArchiveEntry.java   \n",
       "70   463d6ebdebb2ea194254f1c3fab0a0f63ee212ce  ZipArchiveEntry.java   \n",
       "71   463d6ebdebb2ea194254f1c3fab0a0f63ee212ce  ZipArchiveEntry.java   \n",
       "..                                        ...                   ...   \n",
       "437  09764abbcd8b9973063b45a9f61cf80cfdde900a         JavaTest.java   \n",
       "438  a0510d8c7e81c438ff66249f183be9aa8c80d60c         JavaTest.java   \n",
       "439  a0510d8c7e81c438ff66249f183be9aa8c80d60c         JavaTest.java   \n",
       "440  a0510d8c7e81c438ff66249f183be9aa8c80d60c         JavaTest.java   \n",
       "441  63fc1baa73ad03828e48a2b190181fd7789902fd          Javalin.java   \n",
       "\n",
       "                                           method_name                   Date  \\\n",
       "67                    ZipArchiveEntry::ZipArchiveEntry  commit.committer_date   \n",
       "68                              ZipArchiveEntry::clone  commit.committer_date   \n",
       "69              ZipArchiveEntry::getInternalAttributes  commit.committer_date   \n",
       "70              ZipArchiveEntry::setInternalAttributes  commit.committer_date   \n",
       "71              ZipArchiveEntry::getExternalAttributes  commit.committer_date   \n",
       "..                                                 ...                    ...   \n",
       "437              JavaTest::instantiate_JavalinTestTool  commit.committer_date   \n",
       "438     JavaTest::exceptions_in_test_code_get_rethrown  commit.committer_date   \n",
       "439  JavaTest::exceptions_in_handler_code_are_caugh...  commit.committer_date   \n",
       "440  JavaTest::exception_in_handler_code_is_include...  commit.committer_date   \n",
       "441                              Javalin::updateConfig  commit.committer_date   \n",
       "\n",
       "     before_satd  before_ccn  after_satd  after_ccn  \\\n",
       "67             0           1           0          1   \n",
       "68             0           1           0          2   \n",
       "69             0           1           0          1   \n",
       "70             0           1           0          1   \n",
       "71             0           1           0          1   \n",
       "..           ...         ...         ...        ...   \n",
       "437            0           1           0          1   \n",
       "438            0           1           0          1   \n",
       "439            0           1           0          1   \n",
       "440            0           1           0          2   \n",
       "441            0           1           0          1   \n",
       "\n",
       "                                        commit_message  is_message_satd  \\\n",
       "67   rename ZipEntry to ZipArchiveEntry\\n\\ngit-svn-...             True   \n",
       "68   rename ZipEntry to ZipArchiveEntry\\n\\ngit-svn-...             True   \n",
       "69   rename ZipEntry to ZipArchiveEntry\\n\\ngit-svn-...             True   \n",
       "70   rename ZipEntry to ZipArchiveEntry\\n\\ngit-svn-...             True   \n",
       "71   rename ZipEntry to ZipArchiveEntry\\n\\ngit-svn-...             True   \n",
       "..                                                 ...              ...   \n",
       "437  [testtools] Make it possible to instantiate a ...             True   \n",
       "438  [testtool] Add test cases for exception handli...             True   \n",
       "439  [testtool] Add test cases for exception handli...             True   \n",
       "440  [testtool] Add test cases for exception handli...             True   \n",
       "441  [config] Add Javalin#updateConfig to allow con...             True   \n",
       "\n",
       "     diff_ccn  \n",
       "67          0  \n",
       "68          1  \n",
       "69          0  \n",
       "70          0  \n",
       "71          0  \n",
       "..        ...  \n",
       "437         0  \n",
       "438         0  \n",
       "439         0  \n",
       "440         1  \n",
       "441         0  \n",
       "\n",
       "[4992 rows x 11 columns]"
      ]
     },
     "execution_count": 48,
     "metadata": {},
     "output_type": "execute_result"
    }
   ],
   "source": [
    "df_message_has_satd"
   ]
  },
  {
   "cell_type": "code",
   "execution_count": 53,
   "id": "955dc770",
   "metadata": {
    "collapsed": false
   },
   "outputs": [
    {
     "data": {
      "image/png": "[encoded data removed]",
      "text/plain": [
       "<Figure size 640x480 with 1 Axes>"
      ]
     },
     "metadata": {},
     "output_type": "display_data"
    }
   ],
   "source": [
    "plt.boxplot(df_message_has_not_satd['diff_ccn'])\n",
    "\n",
    "# Set the y-axis label\n",
    "plt.ylabel('diff_ccn')\n",
    "\n",
    "# Set the title of the plot\n",
    "plt.title('Box Plot of diff_ccn')\n",
    "\n",
    "# Display the plot\n",
    "plt.show()"
   ]
  },
  {
   "cell_type": "code",
   "execution_count": 47,
   "id": "6090d84a",
   "metadata": {},
   "outputs": [
    {
     "data": {
      "image/png": "[encoded data removed]",
      "text/plain": [
       "<Figure size 640x480 with 1 Axes>"
      ]
     },
     "metadata": {},
     "output_type": "display_data"
    }
   ],
   "source": [
    "plt.boxplot(df_message_has_satd['diff_ccn'])\n",
    "\n",
    "# Set the y-axis label\n",
    "plt.ylabel('diff_ccn')\n",
    "\n",
    "# Set the title of the plot\n",
    "plt.title('Box Plot of diff_ccn')\n",
    "\n",
    "# Display the plot\n",
    "plt.show()"
   ]
  },
  {
   "cell_type": "code",
   "execution_count": 49,
   "id": "f159273c",
   "metadata": {},
   "outputs": [
    {
     "data": {
      "image/png": "[encoded data removed]",
      "text/plain": [
       "<Figure size 640x480 with 1 Axes>"
      ]
     },
     "metadata": {},
     "output_type": "display_data"
    }
   ],
   "source": [
    "plt.boxplot(df['diff_ccn'])\n",
    "\n",
    "# Set the y-axis label\n",
    "plt.ylabel('diff_ccn')\n",
    "\n",
    "# Set the title of the plot\n",
    "plt.title('Box Plot of diff_ccn')\n",
    "\n",
    "# Display the plot\n",
    "plt.show()"
   ]
  },
  {
   "cell_type": "code",
   "execution_count": 34,
   "id": "6c69bd3c",
   "metadata": {
    "collapsed": false
   },
   "outputs": [],
   "source": [
    "group1 = df_message_has_satd['diff_ccn']\n",
    "group2 = df_message_has_not_satd['diff_ccn']"
   ]
  },
  {
   "cell_type": "raw",
   "id": "5caecc24",
   "metadata": {
    "collapsed": false
   },
   "source": [
    "#### T-test"
   ]
  },
  {
   "cell_type": "markdown",
   "id": "fa36fd55",
   "metadata": {
    "collapsed": false
   },
   "source": [
    "t-test is used to compare the means of two groups of data.It assumes that the data is normally distributed and the variances of the two groups are equal."
   ]
  },
  {
   "cell_type": "code",
   "execution_count": 54,
   "id": "2afcf3b0",
   "metadata": {
    "collapsed": false
   },
   "outputs": [
    {
     "name": "stdout",
     "output_type": "stream",
     "text": [
      "t-statistic:  -0.6255141567190478\n",
      "p-value:  0.5317025472291319\n"
     ]
    }
   ],
   "source": [
    "from scipy.stats import ttest_ind\n",
    "\n",
    "# Calculate the t-test\n",
    "\n",
    "t_stat, p_value = ttest_ind(group1, group2)\n",
    "\n",
    "# Print the results\n",
    "print(\"t-statistic: \", t_stat)\n",
    "print(\"p-value: \", p_value)"
   ]
  },
  {
   "cell_type": "markdown",
   "id": "6fe5f0c7",
   "metadata": {
    "collapsed": false
   },
   "source": [
    "The t-statistic is a measure of how many standard errors the sample mean is away from the hypothesized population mean. It is used in hypothesis testing to determine if the difference between the sample mean and the population mean is statistically significant. The larger the absolute value of the t-statistic, the more evidence there is against the null hypothesis.\n",
    "\n",
    "Here are some general guidelines for interpreting the t-statistic:\n",
    "\n",
    "If the t-statistic is positive, it means that the sample mean is greater than the hypothesized population mean.\n",
    "If the t-statistic is negative, it means that the sample mean is less than the hypothesized population mean.\n",
    "The absolute value of the t-statistic indicates how many standard errors the sample mean is away from the hypothesized population mean. A larger absolute value indicates a greater deviation from the hypothesized population mean.\n",
    "A t-statistic with a p-value less than the chosen level of significance (usually 0.05) indicates that the difference between the sample mean and the hypothesized population mean is statistically significant. In other words, there is strong evidence against the null hypothesis.\n",
    "A t-statistic with a p-value greater than the chosen level of significance indicates that the difference between the sample mean and the hypothesized population mean is not statistically significant. In other words, there is not enough evidence to reject the null hypothesis."
   ]
  },
  {
   "cell_type": "markdown",
   "id": "015ef698",
   "metadata": {
    "collapsed": false
   },
   "source": [
    "#### Mann-Whitney U test"
   ]
  },
  {
   "cell_type": "raw",
   "id": "c67c2525",
   "metadata": {
    "collapsed": false
   },
   "source": [
    "Mann-Whitney U test, is used to determine if two independent samples have different distributions."
   ]
  },
  {
   "cell_type": "code",
   "execution_count": 37,
   "id": "2989a769",
   "metadata": {
    "collapsed": false
   },
   "outputs": [
    {
     "name": "stdout",
     "output_type": "stream",
     "text": [
      "U-statistic: -0.42412837218245225\n",
      "p-value: 0.6714721948699801\n"
     ]
    }
   ],
   "source": [
    "from scipy.stats import ranksums\n",
    "\n",
    "# conduct the Wilcoxon rank-sum test\n",
    "u_stat, p_value = ranksums(group1, group2)\n",
    "\n",
    "# print the results\n",
    "print(\"U-statistic:\", u_stat)\n",
    "print(\"p-value:\", p_value)"
   ]
  },
  {
   "cell_type": "markdown",
   "id": "61840018",
   "metadata": {
    "collapsed": false
   },
   "source": [
    "U-statistic: The U-statistic is a non-parametric measure of the difference between the two independent samples. It is calculated by ranking all the observations from both samples together and then summing the ranks of the observations from one of the samples. The U-statistic can range from 0 to n1*n2, where n1 and n2 are the sizes of the two samples. A larger U-statistic indicates a greater difference between the two samples.\n",
    "\n",
    "p-value: The p-value is the probability of observing a difference as large as or larger than the one in the sample data, assuming that the null hypothesis is true. The null hypothesis for the Wilcoxon rank-sum test is that the two samples have the same distribution. If the p-value is less than the chosen level of significance (usually 0.05), then the null hypothesis is rejected and it is concluded that the two samples have different distributions. If the p-value is greater than the level of significance, then the null hypothesis is not rejected and it is concluded that there is not enough evidence to suggest that the two samples have different distributions."
   ]
  },
  {
   "cell_type": "code",
   "execution_count": 180,
   "id": "3595cc91",
   "metadata": {
    "collapsed": false
   },
   "outputs": [],
   "source": []
  }
 ],
 "metadata": {
  "kernelspec": {
   "display_name": "Python 3 (ipykernel)",
   "language": "python",
   "name": "python3"
  },
  "language_info": {
   "codemirror_mode": {
    "name": "ipython",
    "version": 3
   },
   "file_extension": ".py",
   "mimetype": "text/x-python",
   "name": "python",
   "nbconvert_exporter": "python",
   "pygments_lexer": "ipython3",
   "version": "3.9.13"
  }
 },
 "nbformat": 4,
 "nbformat_minor": 5
}
