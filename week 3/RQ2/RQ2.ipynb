{
 "cells": [
  {
   "cell_type": "code",
   "execution_count": 226,
   "id": "255c47e6",
   "metadata": {},
   "outputs": [],
   "source": [
    "import nltk\n",
    "from nltk.corpus import stopwords\n",
    "from nltk.stem import PorterStemmer"
   ]
  },
  {
   "cell_type": "code",
   "execution_count": 32,
   "id": "46fe1d25",
   "metadata": {},
   "outputs": [
    {
     "name": "stderr",
     "output_type": "stream",
     "text": [
      "[nltk_data] Downloading package words to\n",
      "[nltk_data]     C:\\Users\\Asus\\AppData\\Roaming\\nltk_data...\n",
      "[nltk_data]   Package words is already up-to-date!\n"
     ]
    }
   ],
   "source": [
    "nltk.download('words') # download the list of English words\n",
    "english_words = set(nltk.corpus.words.words()) # create a set of English words"
   ]
  },
  {
   "cell_type": "code",
   "execution_count": 360,
   "id": "628fc028",
   "metadata": {},
   "outputs": [],
   "source": [
    "import matplotlib.pyplot as plt"
   ]
  },
  {
   "cell_type": "markdown",
   "id": "e1ed3f1b",
   "metadata": {},
   "source": [
    "### Helping function"
   ]
  },
  {
   "cell_type": "code",
   "execution_count": 227,
   "id": "3b71fee6",
   "metadata": {},
   "outputs": [],
   "source": [
    "import re\n",
    "\n",
    "def Clean_text(text):\n",
    "    \"\"\"\n",
    "    Extract words from a string and return them as a list.\n",
    "    \"\"\"\n",
    "    # Replace all non-word characters with whitespace\n",
    "    text_cleaned = re.sub(r'http\\S+|www.\\S+', '', text )\n",
    "    text_cleaned = re.sub(r'\\b\\w{8}-\\w{4}-\\w{4}-\\w{4}-\\w{12}\\b', '', text_cleaned)\n",
    "    text_cleaned = re.sub(r'[^\\w\\s]', ' ', text_cleaned)\n",
    "    text_cleaned= text_cleaned.replace('_x000D_','')\n",
    "    text_cleaned = re.sub(r'\\b[A-Fa-f0-9]{32,64}\\b', ' ', text_cleaned)\n",
    "    text_cleaned = re.sub(r'\\b[A-Fa-f0-9]{128}\\b', ' ', text_cleaned)\n",
    "    text_cleaned = re.sub(r'\\d+', ' ', text_cleaned)\n",
    "    text_cleaned = text_cleaned.replace('  ', '').replace('\\n', ' ')\n",
    "    \n",
    "    return text_cleaned"
   ]
  },
  {
   "cell_type": "code",
   "execution_count": 228,
   "id": "943d2223",
   "metadata": {},
   "outputs": [],
   "source": [
    "import spacy\n",
    "en = spacy.load('en_core_web_lg')\n",
    "sw_spacy = en.Defaults.stop_words\n",
    "def remove_sw(i):\n",
    "    words = [word for word in i.split() if word.lower() not in sw_spacy and len(word)>1]\n",
    "    new_text = \" \".join(words)\n",
    "    return new_text"
   ]
  },
  {
   "cell_type": "code",
   "execution_count": 242,
   "id": "42ebaf09",
   "metadata": {},
   "outputs": [],
   "source": [
    "def english_filter(i):\n",
    "    english_words_list = [word for word in i.split() if word.lower() in english_words]\n",
    "    new_text = \" \".join(english_words_list)\n",
    "    return new_text"
   ]
  },
  {
   "cell_type": "code",
   "execution_count": 238,
   "id": "ba6f59fa",
   "metadata": {},
   "outputs": [],
   "source": [
    "def unuseful_words_filtering(i):\n",
    "    unuseful_words = ['git', 'apache', 'svn', 'id', 'method', 'class', 'don', 'private', 'commons', 'test', 'use', 'fix', 'add', 'code', 'file', 'provider', 'string', 'static', 'upgrade', 'patch','static', 'package', 'instead', 'case','new' , 'final']\n",
    "    words = [word for word in i.split() if word.lower() not in unuseful_words]\n",
    "    new_text = \" \".join(words)\n",
    "    return new_text"
   ]
  },
  {
   "cell_type": "code",
   "execution_count": 257,
   "id": "393799f4",
   "metadata": {},
   "outputs": [],
   "source": [
    "from nltk.stem import SnowballStemmer\n",
    "\n",
    "def stem_text(input_text):\n",
    "    stemmer = SnowballStemmer(\"english\")\n",
    "    words = nltk.word_tokenize(input_text) \n",
    "    stemmed_words = [stemmer.stem(word) for word in words]\n",
    "    output_text = \" \".join(stemmed_words)\n",
    "    return output_text\n"
   ]
  },
  {
   "cell_type": "code",
   "execution_count": 329,
   "id": "56357b82",
   "metadata": {},
   "outputs": [],
   "source": [
    "# Define a function to count occurrences of words in text\n",
    "def count_words(text, word_list):\n",
    "    return sum(1 for word in word_list if word in text)"
   ]
  },
  {
   "cell_type": "markdown",
   "id": "57147ffd",
   "metadata": {},
   "source": [
    "### Random Forest"
   ]
  },
  {
   "cell_type": "code",
   "execution_count": 305,
   "id": "8bfa5f85",
   "metadata": {},
   "outputs": [],
   "source": [
    "import pandas as pd\n",
    "from sklearn.feature_extraction.text import TfidfVectorizer\n",
    "from sklearn.ensemble import RandomForestClassifier\n",
    "from sklearn.model_selection import train_test_split\n",
    "from sklearn.metrics import accuracy_score ,f1_score ,precision_score,recall_score"
   ]
  },
  {
   "cell_type": "code",
   "execution_count": 480,
   "id": "fc4c022d",
   "metadata": {},
   "outputs": [],
   "source": [
    "df1 = pd.read_excel('commons-bcel.xlsx')\n",
    "df2 = pd.read_excel('commons-vfs.xlsx')\n",
    "df3 = pd.read_excel('commons-codec.xlsx')\n",
    "df4 = pd.read_excel('javalin.xlsx')\n",
    "df=pd.concat([df1, df2,df3 , df4 ], axis=0)"
   ]
  },
  {
   "cell_type": "code",
   "execution_count": 494,
   "id": "a0cefe39",
   "metadata": {},
   "outputs": [],
   "source": [
    "df=df4"
   ]
  },
  {
   "cell_type": "code",
   "execution_count": 495,
   "id": "6964dd07",
   "metadata": {},
   "outputs": [],
   "source": [
    "df = df.drop(['complexity_old'], axis=1)\n",
    "df['Readability_variation']= df['readibility']- df['readibility_old']\n",
    "df = df.dropna()\n",
    "df = df.groupby(['msg'])['Readability_variation'].sum().reset_index()"
   ]
  },
  {
   "cell_type": "code",
   "execution_count": 496,
   "id": "4d1115a1",
   "metadata": {},
   "outputs": [
    {
     "data": {
      "text/plain": [
       "558"
      ]
     },
     "execution_count": 496,
     "metadata": {},
     "output_type": "execute_result"
    }
   ],
   "source": [
    "len(df)"
   ]
  },
  {
   "cell_type": "code",
   "execution_count": 308,
   "id": "7a47047c",
   "metadata": {},
   "outputs": [],
   "source": [
    "df['Readability_increased']=df['Readability_variation']>0"
   ]
  },
  {
   "cell_type": "code",
   "execution_count": 309,
   "id": "b6e127fc",
   "metadata": {},
   "outputs": [],
   "source": [
    "df['msg'] = df['msg'].apply(Clean_text)"
   ]
  },
  {
   "cell_type": "code",
   "execution_count": 310,
   "id": "bda5ae43",
   "metadata": {},
   "outputs": [],
   "source": [
    "df['msg'] = df['msg'].apply(remove_sw)"
   ]
  },
  {
   "cell_type": "code",
   "execution_count": 311,
   "id": "178efdee",
   "metadata": {},
   "outputs": [],
   "source": [
    "df['msg'] = df['msg'].apply(stem_text)"
   ]
  },
  {
   "cell_type": "code",
   "execution_count": 312,
   "id": "f7ccaa46",
   "metadata": {},
   "outputs": [],
   "source": [
    "df['msg'] = df['msg'].apply(unuseful_words_filtering)"
   ]
  },
  {
   "cell_type": "code",
   "execution_count": 313,
   "id": "10364f0e",
   "metadata": {},
   "outputs": [],
   "source": [
    "df['msg'] = df['msg'].apply(english_filter)"
   ]
  },
  {
   "cell_type": "code",
   "execution_count": 314,
   "id": "8d4968b1",
   "metadata": {},
   "outputs": [],
   "source": [
    "# Remove rows with empty strings \n",
    "df = df[df['msg'] != '']"
   ]
  },
  {
   "cell_type": "code",
   "execution_count": 315,
   "id": "7250d235",
   "metadata": {},
   "outputs": [
    {
     "data": {
      "text/html": [
       "<div>\n",
       "<style scoped>\n",
       "    .dataframe tbody tr th:only-of-type {\n",
       "        vertical-align: middle;\n",
       "    }\n",
       "\n",
       "    .dataframe tbody tr th {\n",
       "        vertical-align: top;\n",
       "    }\n",
       "\n",
       "    .dataframe thead th {\n",
       "        text-align: right;\n",
       "    }\n",
       "</style>\n",
       "<table border=\"1\" class=\"dataframe\">\n",
       "  <thead>\n",
       "    <tr style=\"text-align: right;\">\n",
       "      <th></th>\n",
       "      <th>msg</th>\n",
       "      <th>Readability_variation</th>\n",
       "      <th>Readability_increased</th>\n",
       "    </tr>\n",
       "  </thead>\n",
       "  <tbody>\n",
       "    <tr>\n",
       "      <th>0</th>\n",
       "      <td>except throw</td>\n",
       "      <td>0.000010</td>\n",
       "      <td>True</td>\n",
       "    </tr>\n",
       "    <tr>\n",
       "      <th>2</th>\n",
       "      <td>comment check fail long bug lurk concern assig...</td>\n",
       "      <td>-0.000084</td>\n",
       "      <td>False</td>\n",
       "    </tr>\n",
       "    <tr>\n",
       "      <th>3</th>\n",
       "      <td>meta intern fail dont know dont want adjust tr...</td>\n",
       "      <td>-0.099606</td>\n",
       "      <td>False</td>\n",
       "    </tr>\n",
       "    <tr>\n",
       "      <th>8</th>\n",
       "      <td>minor typo minor typo project document comment...</td>\n",
       "      <td>-0.000744</td>\n",
       "      <td>False</td>\n",
       "    </tr>\n",
       "    <tr>\n",
       "      <th>9</th>\n",
       "      <td>typo typo field constant name name name except</td>\n",
       "      <td>-0.004945</td>\n",
       "      <td>False</td>\n",
       "    </tr>\n",
       "    <tr>\n",
       "      <th>...</th>\n",
       "      <td>...</td>\n",
       "      <td>...</td>\n",
       "      <td>...</td>\n",
       "    </tr>\n",
       "    <tr>\n",
       "      <th>5024</th>\n",
       "      <td>server start root gif context</td>\n",
       "      <td>0.025449</td>\n",
       "      <td>True</td>\n",
       "    </tr>\n",
       "    <tr>\n",
       "      <th>5025</th>\n",
       "      <td>wrong check</td>\n",
       "      <td>-0.143829</td>\n",
       "      <td>False</td>\n",
       "    </tr>\n",
       "    <tr>\n",
       "      <th>5026</th>\n",
       "      <td>wrong name</td>\n",
       "      <td>0.031399</td>\n",
       "      <td>True</td>\n",
       "    </tr>\n",
       "    <tr>\n",
       "      <th>5027</th>\n",
       "      <td>wrong ant common compress</td>\n",
       "      <td>0.000000</td>\n",
       "      <td>False</td>\n",
       "    </tr>\n",
       "    <tr>\n",
       "      <th>5028</th>\n",
       "      <td>close open avoid lock</td>\n",
       "      <td>0.066428</td>\n",
       "      <td>True</td>\n",
       "    </tr>\n",
       "  </tbody>\n",
       "</table>\n",
       "<p>4022 rows × 3 columns</p>\n",
       "</div>"
      ],
      "text/plain": [
       "                                                    msg  \\\n",
       "0                                          except throw   \n",
       "2     comment check fail long bug lurk concern assig...   \n",
       "3     meta intern fail dont know dont want adjust tr...   \n",
       "8     minor typo minor typo project document comment...   \n",
       "9        typo typo field constant name name name except   \n",
       "...                                                 ...   \n",
       "5024                      server start root gif context   \n",
       "5025                                        wrong check   \n",
       "5026                                         wrong name   \n",
       "5027                          wrong ant common compress   \n",
       "5028                              close open avoid lock   \n",
       "\n",
       "      Readability_variation  Readability_increased  \n",
       "0                  0.000010                   True  \n",
       "2                 -0.000084                  False  \n",
       "3                 -0.099606                  False  \n",
       "8                 -0.000744                  False  \n",
       "9                 -0.004945                  False  \n",
       "...                     ...                    ...  \n",
       "5024               0.025449                   True  \n",
       "5025              -0.143829                  False  \n",
       "5026               0.031399                   True  \n",
       "5027               0.000000                  False  \n",
       "5028               0.066428                   True  \n",
       "\n",
       "[4022 rows x 3 columns]"
      ]
     },
     "execution_count": 315,
     "metadata": {},
     "output_type": "execute_result"
    }
   ],
   "source": [
    "df"
   ]
  },
  {
   "cell_type": "code",
   "execution_count": 316,
   "id": "d701923b",
   "metadata": {},
   "outputs": [],
   "source": [
    "df=df[['msg','Readability_increased']]"
   ]
  },
  {
   "cell_type": "code",
   "execution_count": 317,
   "id": "2e4895eb",
   "metadata": {},
   "outputs": [],
   "source": [
    "X_train, X_test1, y_train, y_test = train_test_split(df['msg'], df['Readability_increased'], test_size=0.2, random_state=42)\n"
   ]
  },
  {
   "cell_type": "code",
   "execution_count": 318,
   "id": "77bb27e7",
   "metadata": {},
   "outputs": [],
   "source": [
    "vectorizer = TfidfVectorizer()\n",
    "X_train = vectorizer.fit_transform(X_train)\n",
    "X_test = vectorizer.transform(X_test1)"
   ]
  },
  {
   "cell_type": "code",
   "execution_count": 319,
   "id": "f0213017",
   "metadata": {},
   "outputs": [
    {
     "data": {
      "text/html": [
       "<style>#sk-container-id-14 {color: black;background-color: white;}#sk-container-id-14 pre{padding: 0;}#sk-container-id-14 div.sk-toggleable {background-color: white;}#sk-container-id-14 label.sk-toggleable__label {cursor: pointer;display: block;width: 100%;margin-bottom: 0;padding: 0.3em;box-sizing: border-box;text-align: center;}#sk-container-id-14 label.sk-toggleable__label-arrow:before {content: \"▸\";float: left;margin-right: 0.25em;color: #696969;}#sk-container-id-14 label.sk-toggleable__label-arrow:hover:before {color: black;}#sk-container-id-14 div.sk-estimator:hover label.sk-toggleable__label-arrow:before {color: black;}#sk-container-id-14 div.sk-toggleable__content {max-height: 0;max-width: 0;overflow: hidden;text-align: left;background-color: #f0f8ff;}#sk-container-id-14 div.sk-toggleable__content pre {margin: 0.2em;color: black;border-radius: 0.25em;background-color: #f0f8ff;}#sk-container-id-14 input.sk-toggleable__control:checked~div.sk-toggleable__content {max-height: 200px;max-width: 100%;overflow: auto;}#sk-container-id-14 input.sk-toggleable__control:checked~label.sk-toggleable__label-arrow:before {content: \"▾\";}#sk-container-id-14 div.sk-estimator input.sk-toggleable__control:checked~label.sk-toggleable__label {background-color: #d4ebff;}#sk-container-id-14 div.sk-label input.sk-toggleable__control:checked~label.sk-toggleable__label {background-color: #d4ebff;}#sk-container-id-14 input.sk-hidden--visually {border: 0;clip: rect(1px 1px 1px 1px);clip: rect(1px, 1px, 1px, 1px);height: 1px;margin: -1px;overflow: hidden;padding: 0;position: absolute;width: 1px;}#sk-container-id-14 div.sk-estimator {font-family: monospace;background-color: #f0f8ff;border: 1px dotted black;border-radius: 0.25em;box-sizing: border-box;margin-bottom: 0.5em;}#sk-container-id-14 div.sk-estimator:hover {background-color: #d4ebff;}#sk-container-id-14 div.sk-parallel-item::after {content: \"\";width: 100%;border-bottom: 1px solid gray;flex-grow: 1;}#sk-container-id-14 div.sk-label:hover label.sk-toggleable__label {background-color: #d4ebff;}#sk-container-id-14 div.sk-serial::before {content: \"\";position: absolute;border-left: 1px solid gray;box-sizing: border-box;top: 0;bottom: 0;left: 50%;z-index: 0;}#sk-container-id-14 div.sk-serial {display: flex;flex-direction: column;align-items: center;background-color: white;padding-right: 0.2em;padding-left: 0.2em;position: relative;}#sk-container-id-14 div.sk-item {position: relative;z-index: 1;}#sk-container-id-14 div.sk-parallel {display: flex;align-items: stretch;justify-content: center;background-color: white;position: relative;}#sk-container-id-14 div.sk-item::before, #sk-container-id-14 div.sk-parallel-item::before {content: \"\";position: absolute;border-left: 1px solid gray;box-sizing: border-box;top: 0;bottom: 0;left: 50%;z-index: -1;}#sk-container-id-14 div.sk-parallel-item {display: flex;flex-direction: column;z-index: 1;position: relative;background-color: white;}#sk-container-id-14 div.sk-parallel-item:first-child::after {align-self: flex-end;width: 50%;}#sk-container-id-14 div.sk-parallel-item:last-child::after {align-self: flex-start;width: 50%;}#sk-container-id-14 div.sk-parallel-item:only-child::after {width: 0;}#sk-container-id-14 div.sk-dashed-wrapped {border: 1px dashed gray;margin: 0 0.4em 0.5em 0.4em;box-sizing: border-box;padding-bottom: 0.4em;background-color: white;}#sk-container-id-14 div.sk-label label {font-family: monospace;font-weight: bold;display: inline-block;line-height: 1.2em;}#sk-container-id-14 div.sk-label-container {text-align: center;}#sk-container-id-14 div.sk-container {/* jupyter's `normalize.less` sets `[hidden] { display: none; }` but bootstrap.min.css set `[hidden] { display: none !important; }` so we also need the `!important` here to be able to override the default hidden behavior on the sphinx rendered scikit-learn.org. See: https://github.com/scikit-learn/scikit-learn/issues/21755 */display: inline-block !important;position: relative;}#sk-container-id-14 div.sk-text-repr-fallback {display: none;}</style><div id=\"sk-container-id-14\" class=\"sk-top-container\"><div class=\"sk-text-repr-fallback\"><pre>RandomForestClassifier()</pre><b>In a Jupyter environment, please rerun this cell to show the HTML representation or trust the notebook. <br />On GitHub, the HTML representation is unable to render, please try loading this page with nbviewer.org.</b></div><div class=\"sk-container\" hidden><div class=\"sk-item\"><div class=\"sk-estimator sk-toggleable\"><input class=\"sk-toggleable__control sk-hidden--visually\" id=\"sk-estimator-id-14\" type=\"checkbox\" checked><label for=\"sk-estimator-id-14\" class=\"sk-toggleable__label sk-toggleable__label-arrow\">RandomForestClassifier</label><div class=\"sk-toggleable__content\"><pre>RandomForestClassifier()</pre></div></div></div></div></div>"
      ],
      "text/plain": [
       "RandomForestClassifier()"
      ]
     },
     "execution_count": 319,
     "metadata": {},
     "output_type": "execute_result"
    }
   ],
   "source": [
    "rf = RandomForestClassifier()\n",
    "rf.fit(X_train, y_train)\n"
   ]
  },
  {
   "cell_type": "code",
   "execution_count": 320,
   "id": "b686727c",
   "metadata": {},
   "outputs": [],
   "source": [
    "y_pred = rf.predict(X_test)"
   ]
  },
  {
   "cell_type": "code",
   "execution_count": 321,
   "id": "2249627d",
   "metadata": {},
   "outputs": [
    {
     "name": "stdout",
     "output_type": "stream",
     "text": [
      "Accuracy: 0.6124223602484472\n",
      "precision: 0.5185185185185185\n",
      "recall: 0.3925233644859813\n",
      "f1: 0.4468085106382979\n"
     ]
    }
   ],
   "source": [
    "accuracy = accuracy_score(y_test, y_pred)\n",
    "f1=f1_score(y_test, y_pred)\n",
    "precision=precision_score(y_test, y_pred)\n",
    "recall=recall_score(y_test, y_pred)\n",
    "print('Accuracy:', accuracy)\n",
    "print('precision:', precision)\n",
    "print('recall:', recall)\n",
    "print('f1:', f1)"
   ]
  },
  {
   "cell_type": "markdown",
   "id": "3f2a3f9b",
   "metadata": {},
   "source": [
    "### Feature importance"
   ]
  },
  {
   "cell_type": "code",
   "execution_count": 417,
   "id": "2d73ffe5",
   "metadata": {},
   "outputs": [],
   "source": [
    "data = {'msg': X_test1, 'readability increased prediction': y_pred,'readability increased reality':y_test}\n",
    "\n",
    "# create a DataFrame from the dictionary\n",
    "df_feature = pd.DataFrame(data)"
   ]
  },
  {
   "cell_type": "code",
   "execution_count": 418,
   "id": "8f3f1428",
   "metadata": {},
   "outputs": [
    {
     "data": {
      "text/html": [
       "<div>\n",
       "<style scoped>\n",
       "    .dataframe tbody tr th:only-of-type {\n",
       "        vertical-align: middle;\n",
       "    }\n",
       "\n",
       "    .dataframe tbody tr th {\n",
       "        vertical-align: top;\n",
       "    }\n",
       "\n",
       "    .dataframe thead th {\n",
       "        text-align: right;\n",
       "    }\n",
       "</style>\n",
       "<table border=\"1\" class=\"dataframe\">\n",
       "  <thead>\n",
       "    <tr style=\"text-align: right;\">\n",
       "      <th></th>\n",
       "      <th>msg</th>\n",
       "      <th>readability increased prediction</th>\n",
       "      <th>readability increased reality</th>\n",
       "    </tr>\n",
       "  </thead>\n",
       "  <tbody>\n",
       "    <tr>\n",
       "      <th>2858</th>\n",
       "      <td>set</td>\n",
       "      <td>False</td>\n",
       "      <td>False</td>\n",
       "    </tr>\n",
       "    <tr>\n",
       "      <th>1470</th>\n",
       "      <td>spell</td>\n",
       "      <td>False</td>\n",
       "      <td>False</td>\n",
       "    </tr>\n",
       "    <tr>\n",
       "      <th>3391</th>\n",
       "      <td>tri comment</td>\n",
       "      <td>True</td>\n",
       "      <td>True</td>\n",
       "    </tr>\n",
       "    <tr>\n",
       "      <th>2434</th>\n",
       "      <td>check connect server under common net commit</td>\n",
       "      <td>False</td>\n",
       "      <td>True</td>\n",
       "    </tr>\n",
       "    <tr>\n",
       "      <th>1496</th>\n",
       "      <td>typo</td>\n",
       "      <td>False</td>\n",
       "      <td>False</td>\n",
       "    </tr>\n",
       "    <tr>\n",
       "      <th>...</th>\n",
       "      <td>...</td>\n",
       "      <td>...</td>\n",
       "      <td>...</td>\n",
       "    </tr>\n",
       "    <tr>\n",
       "      <th>3128</th>\n",
       "      <td>tighten access</td>\n",
       "      <td>False</td>\n",
       "      <td>False</td>\n",
       "    </tr>\n",
       "    <tr>\n",
       "      <th>4622</th>\n",
       "      <td>constant array</td>\n",
       "      <td>False</td>\n",
       "      <td>True</td>\n",
       "    </tr>\n",
       "    <tr>\n",
       "      <th>4912</th>\n",
       "      <td>regard</td>\n",
       "      <td>False</td>\n",
       "      <td>False</td>\n",
       "    </tr>\n",
       "    <tr>\n",
       "      <th>4852</th>\n",
       "      <td>need</td>\n",
       "      <td>True</td>\n",
       "      <td>True</td>\n",
       "    </tr>\n",
       "    <tr>\n",
       "      <th>4957</th>\n",
       "      <td>set length</td>\n",
       "      <td>True</td>\n",
       "      <td>False</td>\n",
       "    </tr>\n",
       "  </tbody>\n",
       "</table>\n",
       "<p>805 rows × 3 columns</p>\n",
       "</div>"
      ],
      "text/plain": [
       "                                               msg  \\\n",
       "2858                                           set   \n",
       "1470                                         spell   \n",
       "3391                                   tri comment   \n",
       "2434  check connect server under common net commit   \n",
       "1496                                          typo   \n",
       "...                                            ...   \n",
       "3128                                tighten access   \n",
       "4622                                constant array   \n",
       "4912                                        regard   \n",
       "4852                                          need   \n",
       "4957                                    set length   \n",
       "\n",
       "      readability increased prediction  readability increased reality  \n",
       "2858                             False                          False  \n",
       "1470                             False                          False  \n",
       "3391                              True                           True  \n",
       "2434                             False                           True  \n",
       "1496                             False                          False  \n",
       "...                                ...                            ...  \n",
       "3128                             False                          False  \n",
       "4622                             False                           True  \n",
       "4912                             False                          False  \n",
       "4852                              True                           True  \n",
       "4957                              True                          False  \n",
       "\n",
       "[805 rows x 3 columns]"
      ]
     },
     "execution_count": 418,
     "metadata": {},
     "output_type": "execute_result"
    }
   ],
   "source": [
    "df_feature"
   ]
  },
  {
   "cell_type": "code",
   "execution_count": 419,
   "id": "8d2405db",
   "metadata": {},
   "outputs": [],
   "source": [
    "c1=df_feature['readability increased prediction']==df_feature['readability increased reality']\n",
    "c2=df_feature['readability increased reality']==True\n",
    "df_feature_increased=df_feature[c1 & c2]"
   ]
  },
  {
   "cell_type": "code",
   "execution_count": 428,
   "id": "bb034528",
   "metadata": {},
   "outputs": [],
   "source": [
    "c3=df_feature['readability increased reality']==False\n",
    "df_feature_decreased=df_feature_increased=df_feature[c1 & c3 ]"
   ]
  },
  {
   "cell_type": "code",
   "execution_count": 431,
   "id": "ad69889b",
   "metadata": {},
   "outputs": [
    {
     "data": {
      "text/html": [
       "<div>\n",
       "<style scoped>\n",
       "    .dataframe tbody tr th:only-of-type {\n",
       "        vertical-align: middle;\n",
       "    }\n",
       "\n",
       "    .dataframe tbody tr th {\n",
       "        vertical-align: top;\n",
       "    }\n",
       "\n",
       "    .dataframe thead th {\n",
       "        text-align: right;\n",
       "    }\n",
       "</style>\n",
       "<table border=\"1\" class=\"dataframe\">\n",
       "  <thead>\n",
       "    <tr style=\"text-align: right;\">\n",
       "      <th></th>\n",
       "      <th>msg</th>\n",
       "      <th>readability increased prediction</th>\n",
       "      <th>readability increased reality</th>\n",
       "      <th>Count</th>\n",
       "    </tr>\n",
       "  </thead>\n",
       "  <tbody>\n",
       "    <tr>\n",
       "      <th>2858</th>\n",
       "      <td>set</td>\n",
       "      <td>False</td>\n",
       "      <td>False</td>\n",
       "      <td>0.0</td>\n",
       "    </tr>\n",
       "    <tr>\n",
       "      <th>1470</th>\n",
       "      <td>spell</td>\n",
       "      <td>False</td>\n",
       "      <td>False</td>\n",
       "      <td>0.0</td>\n",
       "    </tr>\n",
       "    <tr>\n",
       "      <th>1496</th>\n",
       "      <td>typo</td>\n",
       "      <td>False</td>\n",
       "      <td>False</td>\n",
       "      <td>0.0</td>\n",
       "    </tr>\n",
       "    <tr>\n",
       "      <th>664</th>\n",
       "      <td>better name</td>\n",
       "      <td>False</td>\n",
       "      <td>False</td>\n",
       "      <td>1.0</td>\n",
       "    </tr>\n",
       "    <tr>\n",
       "      <th>1009</th>\n",
       "      <td>serial version except</td>\n",
       "      <td>False</td>\n",
       "      <td>False</td>\n",
       "      <td>0.0</td>\n",
       "    </tr>\n",
       "    <tr>\n",
       "      <th>...</th>\n",
       "      <td>...</td>\n",
       "      <td>...</td>\n",
       "      <td>...</td>\n",
       "      <td>...</td>\n",
       "    </tr>\n",
       "    <tr>\n",
       "      <th>1698</th>\n",
       "      <td>bug</td>\n",
       "      <td>False</td>\n",
       "      <td>False</td>\n",
       "      <td>0.0</td>\n",
       "    </tr>\n",
       "    <tr>\n",
       "      <th>4368</th>\n",
       "      <td>process refer</td>\n",
       "      <td>False</td>\n",
       "      <td>False</td>\n",
       "      <td>0.0</td>\n",
       "    </tr>\n",
       "    <tr>\n",
       "      <th>2444</th>\n",
       "      <td>run default dig</td>\n",
       "      <td>False</td>\n",
       "      <td>False</td>\n",
       "      <td>0.0</td>\n",
       "    </tr>\n",
       "    <tr>\n",
       "      <th>3128</th>\n",
       "      <td>tighten access</td>\n",
       "      <td>False</td>\n",
       "      <td>False</td>\n",
       "      <td>0.0</td>\n",
       "    </tr>\n",
       "    <tr>\n",
       "      <th>4912</th>\n",
       "      <td>regard</td>\n",
       "      <td>False</td>\n",
       "      <td>False</td>\n",
       "      <td>0.0</td>\n",
       "    </tr>\n",
       "  </tbody>\n",
       "</table>\n",
       "<p>367 rows × 4 columns</p>\n",
       "</div>"
      ],
      "text/plain": [
       "                        msg  readability increased prediction  \\\n",
       "2858                    set                             False   \n",
       "1470                  spell                             False   \n",
       "1496                   typo                             False   \n",
       "664             better name                             False   \n",
       "1009  serial version except                             False   \n",
       "...                     ...                               ...   \n",
       "1698                    bug                             False   \n",
       "4368          process refer                             False   \n",
       "2444        run default dig                             False   \n",
       "3128         tighten access                             False   \n",
       "4912                 regard                             False   \n",
       "\n",
       "      readability increased reality  Count  \n",
       "2858                          False    0.0  \n",
       "1470                          False    0.0  \n",
       "1496                          False    0.0  \n",
       "664                           False    1.0  \n",
       "1009                          False    0.0  \n",
       "...                             ...    ...  \n",
       "1698                          False    0.0  \n",
       "4368                          False    0.0  \n",
       "2444                          False    0.0  \n",
       "3128                          False    0.0  \n",
       "4912                          False    0.0  \n",
       "\n",
       "[367 rows x 4 columns]"
      ]
     },
     "execution_count": 431,
     "metadata": {},
     "output_type": "execute_result"
    }
   ],
   "source": [
    "df_feature_decreased"
   ]
  },
  {
   "cell_type": "code",
   "execution_count": 390,
   "id": "ec209f45",
   "metadata": {},
   "outputs": [],
   "source": [
    "Increase_list=['support', 'set', 'base','allow', 'assert', 'implement', 'local', 'line', 'configur', 'miss','refactor', 'enhanc' , 'clean' ,'simplifi','duplicat']"
   ]
  },
  {
   "cell_type": "code",
   "execution_count": 391,
   "id": "c0a4e62c",
   "metadata": {},
   "outputs": [],
   "source": [
    "decrease_list=['implement', 'lock', 'need', 'miss', 'base', 'system', 'better', 'close', 'check', 'remov', 'log', 'simplifi','featur' ,'conflict'  , 'configur' ,'paramet']"
   ]
  },
  {
   "cell_type": "code",
   "execution_count": 421,
   "id": "732d4ca6",
   "metadata": {},
   "outputs": [
    {
     "name": "stderr",
     "output_type": "stream",
     "text": [
      "<ipython-input-421-a2721ef7e52a>:2: SettingWithCopyWarning: \n",
      "A value is trying to be set on a copy of a slice from a DataFrame.\n",
      "Try using .loc[row_indexer,col_indexer] = value instead\n",
      "\n",
      "See the caveats in the documentation: https://pandas.pydata.org/pandas-docs/stable/user_guide/indexing.html#returning-a-view-versus-a-copy\n",
      "  df_feature_increased.at[index, 'Count']=count_words(row['msg'], Increase_list)\n"
     ]
    }
   ],
   "source": [
    "for index, row in df_feature_increased.iterrows():\n",
    "    df_feature_increased.at[index, 'Count']=count_words(row['msg'], Increase_list)"
   ]
  },
  {
   "cell_type": "code",
   "execution_count": 430,
   "id": "9ed49378",
   "metadata": {},
   "outputs": [
    {
     "name": "stderr",
     "output_type": "stream",
     "text": [
      "<ipython-input-430-ef172aaba1f2>:2: SettingWithCopyWarning: \n",
      "A value is trying to be set on a copy of a slice from a DataFrame.\n",
      "Try using .loc[row_indexer,col_indexer] = value instead\n",
      "\n",
      "See the caveats in the documentation: https://pandas.pydata.org/pandas-docs/stable/user_guide/indexing.html#returning-a-view-versus-a-copy\n",
      "  df_feature_decreased.at[index, 'Count']=count_words(row['msg'], decrease_list)\n"
     ]
    }
   ],
   "source": [
    "for index, row in df_feature_decreased.iterrows():\n",
    "    df_feature_decreased.at[index, 'Count']=count_words(row['msg'], decrease_list)"
   ]
  },
  {
   "cell_type": "code",
   "execution_count": 424,
   "id": "d07b02bf",
   "metadata": {},
   "outputs": [
    {
     "data": {
      "text/plain": [
       "0.0    108\n",
       "1.0     16\n",
       "2.0      2\n",
       "Name: Count, dtype: int64"
      ]
     },
     "execution_count": 424,
     "metadata": {},
     "output_type": "execute_result"
    }
   ],
   "source": [
    "df_feature_increased['Count'].value_counts()"
   ]
  },
  {
   "cell_type": "code",
   "execution_count": 434,
   "id": "ccd3493f",
   "metadata": {},
   "outputs": [
    {
     "data": {
      "text/plain": [
       "0.0    310\n",
       "1.0     57\n",
       "Name: Count, dtype: int64"
      ]
     },
     "execution_count": 434,
     "metadata": {},
     "output_type": "execute_result"
    }
   ],
   "source": [
    "df_feature_decreased['Count'].value_counts()"
   ]
  },
  {
   "cell_type": "code",
   "execution_count": 426,
   "id": "455adf1a",
   "metadata": {},
   "outputs": [
    {
     "data": {
      "image/png": "[encoded data removed]",
      "text/plain": [
       "<Figure size 432x288 with 1 Axes>"
      ]
     },
     "metadata": {
      "needs_background": "light"
     },
     "output_type": "display_data"
    }
   ],
   "source": [
    "counts = df_feature_increased['Count'].value_counts()\n",
    "plt.bar(counts.index, counts.values)\n",
    "plt.show()"
   ]
  },
  {
   "cell_type": "code",
   "execution_count": 432,
   "id": "f74b4ddf",
   "metadata": {},
   "outputs": [
    {
     "data": {
      "image/png": "[encoded data removed]",
      "text/plain": [
       "<Figure size 432x288 with 1 Axes>"
      ]
     },
     "metadata": {
      "needs_background": "light"
     },
     "output_type": "display_data"
    }
   ],
   "source": [
    "counts = df_feature_decreased['Count'].value_counts()\n",
    "plt.bar(counts.index, counts.values)\n",
    "plt.show()"
   ]
  },
  {
   "cell_type": "markdown",
   "id": "67e8a158",
   "metadata": {},
   "source": [
    "### Evaluation Cross-projects"
   ]
  },
  {
   "cell_type": "markdown",
   "id": "72c69819",
   "metadata": {},
   "source": [
    "commons-codec and commons-bcel vs commons-vfs"
   ]
  },
  {
   "cell_type": "code",
   "execution_count": 435,
   "id": "bc03a4f0",
   "metadata": {},
   "outputs": [],
   "source": [
    "df1 = pd.read_excel('commons-bcel.xlsx')\n",
    "df2 = pd.read_excel('commons-vfs.xlsx')\n",
    "df3 = pd.read_excel('commons-codec.xlsx')\n",
    "df=pd.concat([df1,df3], axis=0)"
   ]
  },
  {
   "cell_type": "code",
   "execution_count": 437,
   "id": "a8bc9a2d",
   "metadata": {},
   "outputs": [],
   "source": [
    "def Preprocessing(df):\n",
    "    df = df.drop(['complexity_old'], axis=1)\n",
    "    df['Readability_variation']= df['readibility']- df['readibility_old']\n",
    "    df = df.dropna()\n",
    "    df = df.groupby(['msg'])['Readability_variation'].sum().reset_index()\n",
    "    df['Readability_increased']=df['Readability_variation']>0\n",
    "    df['msg'] = df['msg'].apply(Clean_text)\n",
    "    df['msg'] = df['msg'].apply(stem_text)\n",
    "    df['msg'] = df['msg'].apply(unuseful_words_filtering)\n",
    "    df['msg'] = df['msg'].apply(english_filter)\n",
    "    df = df[df['msg'] != '']\n",
    "    df=df[['msg','Readability_increased']]\n",
    "    return df"
   ]
  },
  {
   "cell_type": "code",
   "execution_count": 438,
   "id": "6cb79bc5",
   "metadata": {},
   "outputs": [],
   "source": [
    "df=Preprocessing(df)"
   ]
  },
  {
   "cell_type": "code",
   "execution_count": 440,
   "id": "ebdc721a",
   "metadata": {},
   "outputs": [],
   "source": [
    "df2=Preprocessing(df2)"
   ]
  },
  {
   "cell_type": "code",
   "execution_count": 441,
   "id": "1788f2f0",
   "metadata": {},
   "outputs": [
    {
     "data": {
      "text/plain": [
       "1708"
      ]
     },
     "execution_count": 441,
     "metadata": {},
     "output_type": "execute_result"
    }
   ],
   "source": [
    "len(df2)"
   ]
  },
  {
   "cell_type": "code",
   "execution_count": 444,
   "id": "a0e674d9",
   "metadata": {},
   "outputs": [],
   "source": [
    "X_train=df['msg']\n",
    "y_train=df['Readability_increased']\n",
    "X_test=df2['msg']\n",
    "y_test=df2['Readability_increased']"
   ]
  },
  {
   "cell_type": "code",
   "execution_count": 445,
   "id": "9f676243",
   "metadata": {},
   "outputs": [
    {
     "name": "stdout",
     "output_type": "stream",
     "text": [
      "Accuracy: 0.5895784543325527\n",
      "precision: 0.46702317290552586\n",
      "recall: 0.39457831325301207\n",
      "f1: 0.42775510204081635\n"
     ]
    }
   ],
   "source": [
    "vectorizer = TfidfVectorizer()\n",
    "X_train = vectorizer.fit_transform(X_train)\n",
    "X_test = vectorizer.transform(X_test)\n",
    "rf = RandomForestClassifier()\n",
    "rf.fit(X_train, y_train)\n",
    "y_pred = rf.predict(X_test)\n",
    "accuracy = accuracy_score(y_test, y_pred)\n",
    "f1=f1_score(y_test, y_pred)\n",
    "precision=precision_score(y_test, y_pred)\n",
    "recall=recall_score(y_test, y_pred)\n",
    "print('Accuracy:', accuracy)\n",
    "print('precision:', precision)\n",
    "print('recall:', recall)\n",
    "print('f1:', f1)"
   ]
  },
  {
   "cell_type": "markdown",
   "id": "d3edd151",
   "metadata": {},
   "source": [
    "commons-vfs and commons-bcel vs commons-codec"
   ]
  },
  {
   "cell_type": "code",
   "execution_count": 446,
   "id": "cbe49b19",
   "metadata": {},
   "outputs": [],
   "source": [
    "df1 = pd.read_excel('commons-bcel.xlsx')\n",
    "df2 = pd.read_excel('commons-vfs.xlsx')\n",
    "df3 = pd.read_excel('commons-codec.xlsx')\n",
    "df=pd.concat([df1,df2], axis=0)"
   ]
  },
  {
   "cell_type": "code",
   "execution_count": 447,
   "id": "383bd5e6",
   "metadata": {},
   "outputs": [],
   "source": [
    "df=Preprocessing(df)\n",
    "df3=Preprocessing(df3)"
   ]
  },
  {
   "cell_type": "code",
   "execution_count": 449,
   "id": "1c6abe5f",
   "metadata": {},
   "outputs": [
    {
     "data": {
      "text/plain": [
       "1122"
      ]
     },
     "execution_count": 449,
     "metadata": {},
     "output_type": "execute_result"
    }
   ],
   "source": [
    "len(df3)"
   ]
  },
  {
   "cell_type": "code",
   "execution_count": 450,
   "id": "1f57a4b1",
   "metadata": {},
   "outputs": [],
   "source": [
    "X_train=df['msg']\n",
    "y_train=df['Readability_increased']\n",
    "X_test=df3['msg']\n",
    "y_test=df3['Readability_increased']"
   ]
  },
  {
   "cell_type": "code",
   "execution_count": 451,
   "id": "cdf96cec",
   "metadata": {},
   "outputs": [
    {
     "name": "stdout",
     "output_type": "stream",
     "text": [
      "Accuracy: 0.5873440285204992\n",
      "precision: 0.4738562091503268\n",
      "recall: 0.3243847874720358\n",
      "f1: 0.3851261620185923\n"
     ]
    }
   ],
   "source": [
    "vectorizer = TfidfVectorizer()\n",
    "X_train = vectorizer.fit_transform(X_train)\n",
    "X_test = vectorizer.transform(X_test)\n",
    "rf = RandomForestClassifier()\n",
    "rf.fit(X_train, y_train)\n",
    "y_pred = rf.predict(X_test)\n",
    "accuracy = accuracy_score(y_test, y_pred)\n",
    "f1=f1_score(y_test, y_pred)\n",
    "precision=precision_score(y_test, y_pred)\n",
    "recall=recall_score(y_test, y_pred)\n",
    "print('Accuracy:', accuracy)\n",
    "print('precision:', precision)\n",
    "print('recall:', recall)\n",
    "print('f1:', f1)"
   ]
  },
  {
   "cell_type": "markdown",
   "id": "145330a6",
   "metadata": {},
   "source": [
    "commons-vfs and commons-codec vs commons-bcel"
   ]
  },
  {
   "cell_type": "code",
   "execution_count": 452,
   "id": "ed7a9bbd",
   "metadata": {},
   "outputs": [],
   "source": [
    "df1 = pd.read_excel('commons-bcel.xlsx')\n",
    "df2 = pd.read_excel('commons-vfs.xlsx')\n",
    "df3 = pd.read_excel('commons-codec.xlsx')\n",
    "df=pd.concat([df3,df2], axis=0)"
   ]
  },
  {
   "cell_type": "code",
   "execution_count": 453,
   "id": "08defcc9",
   "metadata": {},
   "outputs": [],
   "source": [
    "df=Preprocessing(df)\n",
    "df1=Preprocessing(df1)"
   ]
  },
  {
   "cell_type": "code",
   "execution_count": 455,
   "id": "2c8ed2c6",
   "metadata": {},
   "outputs": [
    {
     "data": {
      "text/plain": [
       "1181"
      ]
     },
     "execution_count": 455,
     "metadata": {},
     "output_type": "execute_result"
    }
   ],
   "source": [
    "len(df1)"
   ]
  },
  {
   "cell_type": "code",
   "execution_count": 456,
   "id": "f4841749",
   "metadata": {},
   "outputs": [],
   "source": [
    "X_train=df['msg']\n",
    "y_train=df['Readability_increased']\n",
    "X_test=df1['msg']\n",
    "y_test=df1['Readability_increased']"
   ]
  },
  {
   "cell_type": "code",
   "execution_count": 457,
   "id": "4ee6448e",
   "metadata": {},
   "outputs": [
    {
     "name": "stdout",
     "output_type": "stream",
     "text": [
      "Accuracy: 0.6045723962743438\n",
      "precision: 0.5149253731343284\n",
      "recall: 0.2905263157894737\n",
      "f1: 0.3714670255720054\n"
     ]
    }
   ],
   "source": [
    "vectorizer = TfidfVectorizer()\n",
    "X_train = vectorizer.fit_transform(X_train)\n",
    "X_test = vectorizer.transform(X_test)\n",
    "rf = RandomForestClassifier()\n",
    "rf.fit(X_train, y_train)\n",
    "y_pred = rf.predict(X_test)\n",
    "accuracy = accuracy_score(y_test, y_pred)\n",
    "f1=f1_score(y_test, y_pred)\n",
    "precision=precision_score(y_test, y_pred)\n",
    "recall=recall_score(y_test, y_pred)\n",
    "print('Accuracy:', accuracy)\n",
    "print('precision:', precision)\n",
    "print('recall:', recall)\n",
    "print('f1:', f1)"
   ]
  },
  {
   "cell_type": "markdown",
   "id": "bda8bbff",
   "metadata": {},
   "source": [
    "### Evaluation within-project "
   ]
  },
  {
   "cell_type": "markdown",
   "id": "31268fb5",
   "metadata": {},
   "source": [
    "commons-vfs"
   ]
  },
  {
   "cell_type": "code",
   "execution_count": 463,
   "id": "eac7400b",
   "metadata": {},
   "outputs": [],
   "source": [
    "df = pd.read_excel('commons-vfs.xlsx')"
   ]
  },
  {
   "cell_type": "code",
   "execution_count": 464,
   "id": "ee08d0e6",
   "metadata": {},
   "outputs": [],
   "source": [
    "df=Preprocessing(df)\n",
    "X_train, X_test, y_train, y_test = train_test_split(df['msg'], df['Readability_increased'], test_size=0.2, random_state=42)"
   ]
  },
  {
   "cell_type": "code",
   "execution_count": 465,
   "id": "4fc1a566",
   "metadata": {},
   "outputs": [
    {
     "name": "stdout",
     "output_type": "stream",
     "text": [
      "Accuracy: 0.5994152046783626\n",
      "precision: 0.6181818181818182\n",
      "recall: 0.22666666666666666\n",
      "f1: 0.33170731707317075\n"
     ]
    }
   ],
   "source": [
    "vectorizer = TfidfVectorizer()\n",
    "X_train = vectorizer.fit_transform(X_train)\n",
    "X_test = vectorizer.transform(X_test)\n",
    "rf = RandomForestClassifier()\n",
    "rf.fit(X_train, y_train)\n",
    "y_pred = rf.predict(X_test)\n",
    "accuracy = accuracy_score(y_test, y_pred)\n",
    "f1=f1_score(y_test, y_pred)\n",
    "precision=precision_score(y_test, y_pred)\n",
    "recall=recall_score(y_test, y_pred)\n",
    "print('Accuracy:', accuracy)\n",
    "print('precision:', precision)\n",
    "print('recall:', recall)\n",
    "print('f1:', f1)"
   ]
  },
  {
   "cell_type": "markdown",
   "id": "cf140796",
   "metadata": {},
   "source": [
    "commons-codec"
   ]
  },
  {
   "cell_type": "code",
   "execution_count": 466,
   "id": "b51ac869",
   "metadata": {},
   "outputs": [],
   "source": [
    "df = pd.read_excel('commons-codec.xlsx')"
   ]
  },
  {
   "cell_type": "code",
   "execution_count": 467,
   "id": "f7cd2a8f",
   "metadata": {},
   "outputs": [],
   "source": [
    "df=Preprocessing(df)\n",
    "X_train, X_test, y_train, y_test = train_test_split(df['msg'], df['Readability_increased'], test_size=0.2, random_state=42)"
   ]
  },
  {
   "cell_type": "code",
   "execution_count": 468,
   "id": "9e9be976",
   "metadata": {},
   "outputs": [
    {
     "name": "stdout",
     "output_type": "stream",
     "text": [
      "Accuracy: 0.5911111111111111\n",
      "precision: 0.5263157894736842\n",
      "recall: 0.3157894736842105\n",
      "f1: 0.39473684210526316\n"
     ]
    }
   ],
   "source": [
    "vectorizer = TfidfVectorizer()\n",
    "X_train = vectorizer.fit_transform(X_train)\n",
    "X_test = vectorizer.transform(X_test)\n",
    "rf = RandomForestClassifier()\n",
    "rf.fit(X_train, y_train)\n",
    "y_pred = rf.predict(X_test)\n",
    "accuracy = accuracy_score(y_test, y_pred)\n",
    "f1=f1_score(y_test, y_pred)\n",
    "precision=precision_score(y_test, y_pred)\n",
    "recall=recall_score(y_test, y_pred)\n",
    "print('Accuracy:', accuracy)\n",
    "print('precision:', precision)\n",
    "print('recall:', recall)\n",
    "print('f1:', f1)"
   ]
  },
  {
   "cell_type": "markdown",
   "id": "2294951a",
   "metadata": {},
   "source": [
    "commons-bcel"
   ]
  },
  {
   "cell_type": "code",
   "execution_count": 469,
   "id": "d1becddc",
   "metadata": {},
   "outputs": [],
   "source": [
    "df = pd.read_excel('commons-bcel.xlsx')"
   ]
  },
  {
   "cell_type": "code",
   "execution_count": 470,
   "id": "ed278f35",
   "metadata": {},
   "outputs": [],
   "source": [
    "df=Preprocessing(df)\n",
    "X_train, X_test, y_train, y_test = train_test_split(df['msg'], df['Readability_increased'], test_size=0.2, random_state=42)"
   ]
  },
  {
   "cell_type": "code",
   "execution_count": 471,
   "id": "dd23d385",
   "metadata": {},
   "outputs": [
    {
     "name": "stdout",
     "output_type": "stream",
     "text": [
      "Accuracy: 0.569620253164557\n",
      "precision: 0.5443037974683544\n",
      "recall: 0.3944954128440367\n",
      "f1: 0.4574468085106383\n"
     ]
    }
   ],
   "source": [
    "vectorizer = TfidfVectorizer()\n",
    "X_train = vectorizer.fit_transform(X_train)\n",
    "X_test = vectorizer.transform(X_test)\n",
    "rf = RandomForestClassifier()\n",
    "rf.fit(X_train, y_train)\n",
    "y_pred = rf.predict(X_test)\n",
    "accuracy = accuracy_score(y_test, y_pred)\n",
    "f1=f1_score(y_test, y_pred)\n",
    "precision=precision_score(y_test, y_pred)\n",
    "recall=recall_score(y_test, y_pred)\n",
    "print('Accuracy:', accuracy)\n",
    "print('precision:', precision)\n",
    "print('recall:', recall)\n",
    "print('f1:', f1)"
   ]
  },
  {
   "cell_type": "markdown",
   "id": "e9af20d1",
   "metadata": {},
   "source": [
    "javalin"
   ]
  },
  {
   "cell_type": "code",
   "execution_count": 476,
   "id": "cfa17bdb",
   "metadata": {},
   "outputs": [],
   "source": [
    "df = pd.read_excel('javalin.xlsx')"
   ]
  },
  {
   "cell_type": "code",
   "execution_count": 477,
   "id": "11208fb7",
   "metadata": {},
   "outputs": [],
   "source": [
    "df=Preprocessing(df)\n",
    "X_train, X_test, y_train, y_test = train_test_split(df['msg'], df['Readability_increased'], test_size=0.2, random_state=42)"
   ]
  },
  {
   "cell_type": "code",
   "execution_count": 475,
   "id": "f3c4f95b",
   "metadata": {},
   "outputs": [
    {
     "name": "stdout",
     "output_type": "stream",
     "text": [
      "Accuracy: 0.5638297872340425\n",
      "precision: 0.4583333333333333\n",
      "recall: 0.28205128205128205\n",
      "f1: 0.34920634920634913\n"
     ]
    }
   ],
   "source": [
    "vectorizer = TfidfVectorizer()\n",
    "X_train = vectorizer.fit_transform(X_train)\n",
    "X_test = vectorizer.transform(X_test)\n",
    "rf = RandomForestClassifier()\n",
    "rf.fit(X_train, y_train)\n",
    "y_pred = rf.predict(X_test)\n",
    "accuracy = accuracy_score(y_test, y_pred)\n",
    "f1=f1_score(y_test, y_pred)\n",
    "precision=precision_score(y_test, y_pred)\n",
    "recall=recall_score(y_test, y_pred)\n",
    "print('Accuracy:', accuracy)\n",
    "print('precision:', precision)\n",
    "print('recall:', recall)\n",
    "print('f1:', f1)"
   ]
  },
  {
   "cell_type": "code",
   "execution_count": 478,
   "id": "97f1cdff",
   "metadata": {},
   "outputs": [
    {
     "data": {
      "text/plain": [
       "469"
      ]
     },
     "execution_count": 478,
     "metadata": {},
     "output_type": "execute_result"
    }
   ],
   "source": [
    "len(df)"
   ]
  },
  {
   "cell_type": "code",
   "execution_count": null,
   "id": "5f3d200d",
   "metadata": {},
   "outputs": [],
   "source": []
  }
 ],
 "metadata": {
  "kernelspec": {
   "display_name": "Python 3",
   "language": "python",
   "name": "python3"
  },
  "language_info": {
   "codemirror_mode": {
    "name": "ipython",
    "version": 3
   },
   "file_extension": ".py",
   "mimetype": "text/x-python",
   "name": "python",
   "nbconvert_exporter": "python",
   "pygments_lexer": "ipython3",
   "version": "3.8.8"
  }
 },
 "nbformat": 4,
 "nbformat_minor": 5
}
